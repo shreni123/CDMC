{
 "cells": [
  {
   "cell_type": "markdown",
   "metadata": {},
   "source": [
    "# COLLABORATIVE FILTERING RECOMMENDATION SYSTEM"
   ]
  },
  {
   "cell_type": "code",
   "execution_count": 1,
   "metadata": {
    "colab": {
     "base_uri": "https://localhost:8080/",
     "height": 50
    },
    "id": "cSXZa4-fAPs7",
    "outputId": "ec8819d5-7c9a-410f-f1b0-138b0bd117b9"
   },
   "outputs": [
    {
     "name": "stdout",
     "output_type": "stream",
     "text": [
      ">> Importing Libraries\n"
     ]
    },
    {
     "name": "stderr",
     "output_type": "stream",
     "text": [
      "[nltk_data] Downloading package punkt to\n",
      "[nltk_data]     C:\\Users\\Harshaavardhini\\AppData\\Roaming\\nltk_data...\n",
      "[nltk_data]   Unzipping tokenizers\\punkt.zip.\n",
      "[nltk_data] Downloading package stopwords to\n",
      "[nltk_data]     C:\\Users\\Harshaavardhini\\AppData\\Roaming\\nltk_data...\n"
     ]
    },
    {
     "name": "stdout",
     "output_type": "stream",
     "text": [
      ">> Libraries imported.\n"
     ]
    },
    {
     "name": "stderr",
     "output_type": "stream",
     "text": [
      "[nltk_data]   Unzipping corpora\\stopwords.zip.\n"
     ]
    }
   ],
   "source": [
    "print('>> Importing Libraries')\n",
    "\n",
    "import pandas as pd\n",
    "import numpy as np\n",
    "\n",
    "from surprise import Reader, Dataset, SVD\n",
    "\n",
    "from surprise.accuracy import rmse, mae\n",
    "from surprise.model_selection import cross_validate\n",
    "\n",
    "import tensorflow as tf\n",
    "from tensorflow import keras\n",
    "from tensorflow.keras import layers\n",
    "import matplotlib\n",
    "import matplotlib.pyplot as plt\n",
    "from sklearn.feature_extraction.text import CountVectorizer\n",
    "import re\n",
    "from sklearn.metrics.pairwise import cosine_similarity\n",
    "import random\n",
    "import nltk\n",
    "\n",
    "nltk.download('punkt')\n",
    "nltk.download('stopwords')\n",
    "\n",
    "print('>> Libraries imported.')"
   ]
  },
  {
   "cell_type": "code",
   "execution_count": 2,
   "metadata": {
    "colab": {
     "base_uri": "https://localhost:8080/",
     "height": 73,
     "resources": {
      "http://localhost:8080/nbextensions/google.colab/files.js": {
       "data": "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",
       "headers": [
        [
         "content-type",
         "application/javascript"
        ]
       ],
       "ok": true,
       "status": 200,
       "status_text": ""
      }
     }
    },
    "id": "d4bArtqJBvIF",
    "outputId": "7cb661f6-300c-4bfe-b8f4-6ba4099ecd97"
   },
   "outputs": [
    {
     "data": {
      "text/html": [
       "<div>\n",
       "<style scoped>\n",
       "    .dataframe tbody tr th:only-of-type {\n",
       "        vertical-align: middle;\n",
       "    }\n",
       "\n",
       "    .dataframe tbody tr th {\n",
       "        vertical-align: top;\n",
       "    }\n",
       "\n",
       "    .dataframe thead th {\n",
       "        text-align: right;\n",
       "    }\n",
       "</style>\n",
       "<table border=\"1\" class=\"dataframe\">\n",
       "  <thead>\n",
       "    <tr style=\"text-align: right;\">\n",
       "      <th></th>\n",
       "      <th>movieId</th>\n",
       "      <th>title</th>\n",
       "      <th>genres</th>\n",
       "    </tr>\n",
       "  </thead>\n",
       "  <tbody>\n",
       "    <tr>\n",
       "      <th>0</th>\n",
       "      <td>1</td>\n",
       "      <td>Toy Story (1995)</td>\n",
       "      <td>Adventure|Animation|Children|Comedy|Fantasy</td>\n",
       "    </tr>\n",
       "    <tr>\n",
       "      <th>1</th>\n",
       "      <td>2</td>\n",
       "      <td>Jumanji (1995)</td>\n",
       "      <td>Adventure|Children|Fantasy</td>\n",
       "    </tr>\n",
       "    <tr>\n",
       "      <th>2</th>\n",
       "      <td>3</td>\n",
       "      <td>Grumpier Old Men (1995)</td>\n",
       "      <td>Comedy|Romance</td>\n",
       "    </tr>\n",
       "    <tr>\n",
       "      <th>3</th>\n",
       "      <td>4</td>\n",
       "      <td>Waiting to Exhale (1995)</td>\n",
       "      <td>Comedy|Drama|Romance</td>\n",
       "    </tr>\n",
       "    <tr>\n",
       "      <th>4</th>\n",
       "      <td>5</td>\n",
       "      <td>Father of the Bride Part II (1995)</td>\n",
       "      <td>Comedy</td>\n",
       "    </tr>\n",
       "  </tbody>\n",
       "</table>\n",
       "</div>"
      ],
      "text/plain": [
       "   movieId                               title  \\\n",
       "0        1                    Toy Story (1995)   \n",
       "1        2                      Jumanji (1995)   \n",
       "2        3             Grumpier Old Men (1995)   \n",
       "3        4            Waiting to Exhale (1995)   \n",
       "4        5  Father of the Bride Part II (1995)   \n",
       "\n",
       "                                        genres  \n",
       "0  Adventure|Animation|Children|Comedy|Fantasy  \n",
       "1                   Adventure|Children|Fantasy  \n",
       "2                               Comedy|Romance  \n",
       "3                         Comedy|Drama|Romance  \n",
       "4                                       Comedy  "
      ]
     },
     "execution_count": 2,
     "metadata": {},
     "output_type": "execute_result"
    }
   ],
   "source": [
    "movies = pd.read_csv (r\"movies.csv\")\n",
    "movies.head()"
   ]
  },
  {
   "cell_type": "code",
   "execution_count": 3,
   "metadata": {
    "colab": {
     "base_uri": "https://localhost:8080/",
     "height": 195
    },
    "id": "dePlFkVdB3vX",
    "outputId": "ab157432-984e-4827-dca1-aa4c0bb46f4e",
    "scrolled": true
   },
   "outputs": [
    {
     "data": {
      "text/html": [
       "<div>\n",
       "<style scoped>\n",
       "    .dataframe tbody tr th:only-of-type {\n",
       "        vertical-align: middle;\n",
       "    }\n",
       "\n",
       "    .dataframe tbody tr th {\n",
       "        vertical-align: top;\n",
       "    }\n",
       "\n",
       "    .dataframe thead th {\n",
       "        text-align: right;\n",
       "    }\n",
       "</style>\n",
       "<table border=\"1\" class=\"dataframe\">\n",
       "  <thead>\n",
       "    <tr style=\"text-align: right;\">\n",
       "      <th></th>\n",
       "      <th>userId</th>\n",
       "      <th>movieId</th>\n",
       "      <th>rating</th>\n",
       "      <th>timestamp</th>\n",
       "    </tr>\n",
       "  </thead>\n",
       "  <tbody>\n",
       "    <tr>\n",
       "      <th>0</th>\n",
       "      <td>1</td>\n",
       "      <td>1</td>\n",
       "      <td>4.0</td>\n",
       "      <td>964982703</td>\n",
       "    </tr>\n",
       "    <tr>\n",
       "      <th>1</th>\n",
       "      <td>1</td>\n",
       "      <td>3</td>\n",
       "      <td>4.0</td>\n",
       "      <td>964981247</td>\n",
       "    </tr>\n",
       "    <tr>\n",
       "      <th>2</th>\n",
       "      <td>1</td>\n",
       "      <td>6</td>\n",
       "      <td>4.0</td>\n",
       "      <td>964982224</td>\n",
       "    </tr>\n",
       "    <tr>\n",
       "      <th>3</th>\n",
       "      <td>1</td>\n",
       "      <td>47</td>\n",
       "      <td>5.0</td>\n",
       "      <td>964983815</td>\n",
       "    </tr>\n",
       "    <tr>\n",
       "      <th>4</th>\n",
       "      <td>1</td>\n",
       "      <td>50</td>\n",
       "      <td>5.0</td>\n",
       "      <td>964982931</td>\n",
       "    </tr>\n",
       "  </tbody>\n",
       "</table>\n",
       "</div>"
      ],
      "text/plain": [
       "   userId  movieId  rating  timestamp\n",
       "0       1        1     4.0  964982703\n",
       "1       1        3     4.0  964981247\n",
       "2       1        6     4.0  964982224\n",
       "3       1       47     5.0  964983815\n",
       "4       1       50     5.0  964982931"
      ]
     },
     "execution_count": 3,
     "metadata": {},
     "output_type": "execute_result"
    }
   ],
   "source": [
    "df = pd.read_csv (r\"ratings.csv\")\n",
    "df.head()"
   ]
  },
  {
   "cell_type": "code",
   "execution_count": 4,
   "metadata": {
    "colab": {
     "base_uri": "https://localhost:8080/",
     "height": 195
    },
    "id": "6Nzo_MVnCHmi",
    "outputId": "4c662bb3-5ae6-44c5-fb13-a91514b17f0d"
   },
   "outputs": [
    {
     "data": {
      "text/html": [
       "<div>\n",
       "<style scoped>\n",
       "    .dataframe tbody tr th:only-of-type {\n",
       "        vertical-align: middle;\n",
       "    }\n",
       "\n",
       "    .dataframe tbody tr th {\n",
       "        vertical-align: top;\n",
       "    }\n",
       "\n",
       "    .dataframe thead th {\n",
       "        text-align: right;\n",
       "    }\n",
       "</style>\n",
       "<table border=\"1\" class=\"dataframe\">\n",
       "  <thead>\n",
       "    <tr style=\"text-align: right;\">\n",
       "      <th></th>\n",
       "      <th>userId</th>\n",
       "      <th>movieId</th>\n",
       "      <th>rating</th>\n",
       "    </tr>\n",
       "  </thead>\n",
       "  <tbody>\n",
       "    <tr>\n",
       "      <th>0</th>\n",
       "      <td>1</td>\n",
       "      <td>1</td>\n",
       "      <td>4.0</td>\n",
       "    </tr>\n",
       "    <tr>\n",
       "      <th>1</th>\n",
       "      <td>1</td>\n",
       "      <td>3</td>\n",
       "      <td>4.0</td>\n",
       "    </tr>\n",
       "    <tr>\n",
       "      <th>2</th>\n",
       "      <td>1</td>\n",
       "      <td>6</td>\n",
       "      <td>4.0</td>\n",
       "    </tr>\n",
       "    <tr>\n",
       "      <th>3</th>\n",
       "      <td>1</td>\n",
       "      <td>47</td>\n",
       "      <td>5.0</td>\n",
       "    </tr>\n",
       "    <tr>\n",
       "      <th>4</th>\n",
       "      <td>1</td>\n",
       "      <td>50</td>\n",
       "      <td>5.0</td>\n",
       "    </tr>\n",
       "  </tbody>\n",
       "</table>\n",
       "</div>"
      ],
      "text/plain": [
       "   userId  movieId  rating\n",
       "0       1        1     4.0\n",
       "1       1        3     4.0\n",
       "2       1        6     4.0\n",
       "3       1       47     5.0\n",
       "4       1       50     5.0"
      ]
     },
     "execution_count": 4,
     "metadata": {},
     "output_type": "execute_result"
    }
   ],
   "source": [
    "df.drop('timestamp', axis=1, inplace=True)\n",
    "df.head()"
   ]
  },
  {
   "cell_type": "code",
   "execution_count": 5,
   "metadata": {},
   "outputs": [
    {
     "data": {
      "text/html": [
       "<div>\n",
       "<style scoped>\n",
       "    .dataframe tbody tr th:only-of-type {\n",
       "        vertical-align: middle;\n",
       "    }\n",
       "\n",
       "    .dataframe tbody tr th {\n",
       "        vertical-align: top;\n",
       "    }\n",
       "\n",
       "    .dataframe thead th {\n",
       "        text-align: right;\n",
       "    }\n",
       "</style>\n",
       "<table border=\"1\" class=\"dataframe\">\n",
       "  <thead>\n",
       "    <tr style=\"text-align: right;\">\n",
       "      <th></th>\n",
       "      <th>movieId</th>\n",
       "      <th>title</th>\n",
       "      <th>genres</th>\n",
       "    </tr>\n",
       "  </thead>\n",
       "  <tbody>\n",
       "    <tr>\n",
       "      <th>0</th>\n",
       "      <td>1</td>\n",
       "      <td>Toy Story</td>\n",
       "      <td>Adventure Animation Children Comedy Fantasy</td>\n",
       "    </tr>\n",
       "    <tr>\n",
       "      <th>1</th>\n",
       "      <td>2</td>\n",
       "      <td>Jumanji</td>\n",
       "      <td>Adventure Children Fantasy</td>\n",
       "    </tr>\n",
       "    <tr>\n",
       "      <th>2</th>\n",
       "      <td>3</td>\n",
       "      <td>Grumpier Old Men</td>\n",
       "      <td>Comedy Romance</td>\n",
       "    </tr>\n",
       "    <tr>\n",
       "      <th>3</th>\n",
       "      <td>4</td>\n",
       "      <td>Waiting to Exhale</td>\n",
       "      <td>Comedy Drama Romance</td>\n",
       "    </tr>\n",
       "    <tr>\n",
       "      <th>4</th>\n",
       "      <td>5</td>\n",
       "      <td>Father of the Bride Part II</td>\n",
       "      <td>Comedy</td>\n",
       "    </tr>\n",
       "  </tbody>\n",
       "</table>\n",
       "</div>"
      ],
      "text/plain": [
       "   movieId                        title  \\\n",
       "0        1                    Toy Story   \n",
       "1        2                      Jumanji   \n",
       "2        3             Grumpier Old Men   \n",
       "3        4            Waiting to Exhale   \n",
       "4        5  Father of the Bride Part II   \n",
       "\n",
       "                                        genres  \n",
       "0  Adventure Animation Children Comedy Fantasy  \n",
       "1                   Adventure Children Fantasy  \n",
       "2                               Comedy Romance  \n",
       "3                         Comedy Drama Romance  \n",
       "4                                       Comedy  "
      ]
     },
     "execution_count": 5,
     "metadata": {},
     "output_type": "execute_result"
    }
   ],
   "source": [
    "movies['title'] = movies['title'].str.strip().str[:-7]\n",
    "movies['genres'] = movies['genres'].str.replace('|', ' ')\n",
    "movies['genres'] = movies['genres'].str.replace('(no genres listed)', '')\n",
    "movies.head()"
   ]
  },
  {
   "cell_type": "code",
   "execution_count": 6,
   "metadata": {},
   "outputs": [
    {
     "name": "stdout",
     "output_type": "stream",
     "text": [
      "All frequencies:\n",
      "============================================================\n",
      "             Frequency\n",
      "Word                  \n",
      "drama             4361\n",
      "comedy            3756\n",
      "thriller          1894\n",
      "action            1828\n",
      "romance           1596\n",
      "adventure         1263\n",
      "crime             1199\n",
      "sci-fi             980\n",
      "horror             978\n",
      "fantasy            779\n",
      "children           664\n",
      "animation          611\n",
      "mystery            573\n",
      "documentary        440\n",
      "war                382\n",
      "musical            334\n",
      "western            167\n",
      "imax               158\n",
      "film-noir           87\n",
      "============================================================\n"
     ]
    },
    {
     "data": {
      "text/plain": [
       "<matplotlib.axes._subplots.AxesSubplot at 0x1f42d478be0>"
      ]
     },
     "execution_count": 6,
     "metadata": {},
     "output_type": "execute_result"
    },
    {
     "data": {
      "image/png": "[encoded data removed]",
      "text/plain": [
       "<Figure size 1152x576 with 1 Axes>"
      ]
     },
     "metadata": {},
     "output_type": "display_data"
    }
   ],
   "source": [
    "top_N = 25\n",
    "\n",
    "txt = movies.genres.str.lower().str.cat(sep=' ')\n",
    "words = nltk.tokenize.word_tokenize(txt)\n",
    "word_dist = nltk.FreqDist(words)\n",
    "\n",
    "stopwords = nltk.corpus.stopwords.words('english')\n",
    "stopwords = stopwords + [')', '(', ',', ':', \"'s\", '.', '!', '&', '?']\n",
    "words_except_stop_dist = nltk.FreqDist(w for w in words if w not in stopwords) \n",
    "\n",
    "print('All frequencies:')\n",
    "print('=' * 60)\n",
    "rslt = pd.DataFrame(words_except_stop_dist.most_common(top_N),\n",
    "                    columns=['Word', 'Frequency']).set_index('Word').head(25)\n",
    "print(rslt)\n",
    "print('=' * 60)\n",
    "\n",
    "rslt = pd.DataFrame(words_except_stop_dist.most_common(top_N),\n",
    "                    columns=['Word', 'Frequency']).set_index('Word')\n",
    "\n",
    "matplotlib.style.use('ggplot')\n",
    "rslt.plot.bar(rot=0, figsize=(16, 8), fontsize=10)"
   ]
  },
  {
   "cell_type": "code",
   "execution_count": 7,
   "metadata": {
    "colab": {
     "base_uri": "https://localhost:8080/",
     "height": 84
    },
    "id": "yKrk7qsgCNzs",
    "outputId": "cafa670b-a8b4-42b0-9f82-d594029c5cef"
   },
   "outputs": [
    {
     "data": {
      "text/plain": [
       "userId     0\n",
       "movieId    0\n",
       "rating     0\n",
       "dtype: int64"
      ]
     },
     "execution_count": 7,
     "metadata": {},
     "output_type": "execute_result"
    }
   ],
   "source": [
    "df.isna().sum()"
   ]
  },
  {
   "cell_type": "code",
   "execution_count": 8,
   "metadata": {
    "colab": {
     "base_uri": "https://localhost:8080/",
     "height": 50
    },
    "id": "lPC9iACpVPsT",
    "outputId": "1d523499-b80a-4c39-f906-c619b6d17396"
   },
   "outputs": [
    {
     "name": "stdout",
     "output_type": "stream",
     "text": [
      "Number of movies: 9724\n",
      "Number of users: 610\n"
     ]
    }
   ],
   "source": [
    "n_movies = df[\"movieId\"].nunique() \n",
    "n_users = df[\"userId\"].nunique() \n",
    "\n",
    "print(f'Number of movies: {n_movies}')\n",
    "print(f'Number of users: {n_users}')"
   ]
  },
  {
   "cell_type": "code",
   "execution_count": 9,
   "metadata": {
    "colab": {
     "base_uri": "https://localhost:8080/",
     "height": 84
    },
    "id": "qVlC0ZmrVTR3",
    "outputId": "2af39dcb-8d21-45af-9530-ccd3abbe96b6"
   },
   "outputs": [
    {
     "name": "stdout",
     "output_type": "stream",
     "text": [
      "100836\n",
      "5931640\n",
      "5830804\n",
      "sparsity: 98.30003169443864%\n"
     ]
    }
   ],
   "source": [
    "available_ratings = df['rating'].count()\n",
    "total_ratings = n_movies * n_users\n",
    "missing_ratings = total_ratings - available_ratings\n",
    "sparsity = (missing_ratings/total_ratings)*100\n",
    "print(available_ratings)\n",
    "print(total_ratings)\n",
    "print( missing_ratings)\n",
    "print(f'sparsity: {sparsity}%')"
   ]
  },
  {
   "cell_type": "code",
   "execution_count": 10,
   "metadata": {
    "colab": {
     "base_uri": "https://localhost:8080/",
     "height": 288
    },
    "id": "GYcUmqsbVrcd",
    "outputId": "ad56ca49-eaab-49c1-9fb6-044ebfbef3d4"
   },
   "outputs": [
    {
     "data": {
      "text/plain": [
       "<matplotlib.axes._subplots.AxesSubplot at 0x1f42e7413a0>"
      ]
     },
     "execution_count": 10,
     "metadata": {},
     "output_type": "execute_result"
    },
    {
     "data": {
      "image/png": "[encoded data removed]",
      "text/plain": [
       "<Figure size 432x288 with 1 Axes>"
      ]
     },
     "metadata": {},
     "output_type": "display_data"
    }
   ],
   "source": [
    "df['rating'].value_counts().plot(kind='bar')"
   ]
  },
  {
   "cell_type": "code",
   "execution_count": 11,
   "metadata": {
    "id": "WhQo-lcblCCY"
   },
   "outputs": [],
   "source": [
    "cols = ['userId', 'movieId', 'rating']\n",
    "reader = Reader(rating_scale=(0.5, 5))\n",
    "data = Dataset.load_from_df(df[cols], reader)"
   ]
  },
  {
   "cell_type": "code",
   "execution_count": 12,
   "metadata": {
    "id": "Xt9FETUzlGtX"
   },
   "outputs": [],
   "source": [
    "trainset = data.build_full_trainset()\n",
    "antiset = trainset.build_anti_testset()"
   ]
  },
  {
   "cell_type": "code",
   "execution_count": 13,
   "metadata": {
    "colab": {
     "base_uri": "https://localhost:8080/",
     "height": 1000
    },
    "id": "OBMmCF2ylPkO",
    "outputId": "76adc653-c11f-456b-d55b-120a9f4fd9a2"
   },
   "outputs": [
    {
     "name": "stdout",
     "output_type": "stream",
     "text": [
      "Evaluating RMSE, MAE of algorithm SVD on 5 split(s).\n",
      "\n",
      "                  Fold 1  Fold 2  Fold 3  Fold 4  Fold 5  Mean    Std     \n",
      "RMSE (testset)    0.8791  0.8679  0.8764  0.8758  0.8756  0.8749  0.0037  \n",
      "MAE (testset)     0.6743  0.6677  0.6753  0.6724  0.6710  0.6721  0.0027  \n",
      "Fit time          21.66   21.12   24.97   24.74   28.96   24.29   2.81    \n",
      "Test time         0.47    0.57    0.66    0.43    1.58    0.74    0.43    \n",
      "trained\n"
     ]
    }
   ],
   "source": [
    "algo = SVD(n_epochs = 25, verbose = False)\n",
    "cross_validate(algo, data, measures=['RMSE', 'MAE'], cv=5, verbose = True)\n",
    "print('trained')"
   ]
  },
  {
   "cell_type": "code",
   "execution_count": 14,
   "metadata": {
    "colab": {
     "base_uri": "https://localhost:8080/",
     "height": 34
    },
    "id": "xPGSkmrPlatM",
    "outputId": "9205147e-4eb1-4aad-fc9f-2a688e3408c7"
   },
   "outputs": [
    {
     "data": {
      "text/plain": [
       "Prediction(uid=1, iid=318, r_ui=3.501556983616962, est=5, details={'was_impossible': False})"
      ]
     },
     "execution_count": 14,
     "metadata": {},
     "output_type": "execute_result"
    }
   ],
   "source": [
    "predictions = algo.test(antiset)\n",
    "predictions[0]"
   ]
  },
  {
   "cell_type": "code",
   "execution_count": 30,
   "metadata": {
    "colab": {
     "base_uri": "https://localhost:8080/",
     "height": 1000
    },
    "id": "aM9R4jmtlhE9",
    "outputId": "b999af9f-be23-497f-b56c-519b139b440f"
   },
   "outputs": [
    {
     "name": "stdout",
     "output_type": "stream",
     "text": [
      "1 [318, 48516, 58, 904, 908, 912, 3508, 750, 1246, 5902, 858, 1193, 1201, 1276, 7361, 1221, 3681, 3275, 46578, 177593]\n",
      "2 [1204, 1258, 1225, 1248, 58, 2329, 1617, 3037, 1276, 57669, 750, 1283, 912, 908, 92259, 1246, 933, 1945, 1212, 1267]\n",
      "3 [34405, 2858, 858, 1198, 6460, 109487, 55118, 40815, 3451, 7022, 1242, 56782, 951, 2019, 4019, 3030, 48516, 933, 6791, 912]\n",
      "4 [1249, 91077, 1228, 16, 955, 5989, 750, 527, 1276, 79132, 4995, 1178, 151, 3451, 931, 3265, 60069, 112183, 1201, 2289]\n",
      "5 [2571, 56782, 1204, 750, 930, 4011, 27773, 1225, 1276, 1193, 3037, 1242, 720, 933, 246, 2959, 858, 3147, 1617, 741]\n",
      "6 [27831, 3578, 1207, 3451, 142488, 48516, 1270, 2542, 58, 1263, 1246, 1374, 171763, 97304, 158872, 56782, 92259, 2360, 2160, 1204]\n",
      "7 [6016, 2467, 6711, 431, 68954, 115149, 2580, 1201, 69481, 1266, 3435, 5971, 7147, 2067, 1215, 16, 58998, 293, 1197, 6947]\n",
      "8 [1204, 3468, 750, 3037, 1235, 2959, 2028, 1617, 1219, 1387, 44555, 1197, 48516, 1148, 1242, 2019, 1248, 1221, 2571, 2288]\n",
      "9 [318, 2959, 4973, 296, 1704, 356, 858, 1204, 1215, 1280, 1203, 1196, 1258, 57669, 6016, 3451, 1206, 50, 7153, 177593]\n",
      "10 [1235, 3030, 1225, 55118, 1962, 1242, 3037, 3435, 1204, 3108, 1266, 908, 733, 1261, 5971, 1945, 608, 2360, 56782, 1136]\n",
      "11 [7361, 741, 2959, 2542, 296, 1204, 527, 3451, 1258, 56782, 750, 50, 260, 2329, 2324, 4973, 57669, 3275, 904, 1245]\n",
      "12 [356, 527, 608, 923, 1208, 1219, 1222, 1258, 1617, 2329, 2542, 2571, 2580, 2640, 2959, 3578, 3671, 318, 1704, 48516]\n",
      "13 [2959, 904, 4993, 1204, 58559, 750, 858, 38061, 296, 4226, 1221, 260, 1921, 2858, 318, 4973, 1196, 741, 1250, 2160]\n",
      "14 [4226, 1242, 1235, 3030, 1945, 1204, 7371, 58559, 246, 930, 6711, 6377, 56782, 2580, 2329, 1617, 2788, 720, 2600, 1221]\n",
      "15 [1704, 1258, 57669, 1204, 1203, 608, 904, 5902, 1208, 177593, 750, 6350, 741, 1248, 1263, 1228, 2791, 908, 1073, 2542]\n",
      "16 [44555, 1242, 1235, 3451, 56782, 3030, 48516, 922, 1204, 2324, 908, 3967, 2360, 3275, 2580, 930, 2231, 933, 1210, 6711]\n",
      "17 [1204, 4973, 1208, 1288, 1266, 1223, 1235, 741, 1276, 1704, 1148, 1215, 3037, 246, 1136, 7361, 1261, 778, 2160, 44191]\n",
      "18 [1204, 56782, 3451, 97304, 1235, 1199, 5618, 1228, 3508, 720, 1261, 3468, 3201, 909, 1967, 1945, 1079, 1266, 1217, 866]\n",
      "19 [858, 1204, 7153, 318, 110, 296, 912, 527, 1213, 2329, 1221, 1248, 1276, 1357, 50, 44191, 3022, 1262, 38061, 1201]\n",
      "20 [923, 1204, 933, 1252, 318, 1213, 475, 6791, 1222, 177593, 58, 1276, 56782, 589, 296, 1261, 1653, 3451, 1208, 1266]\n",
      "21 [2565, 1246, 56782, 1207, 55118, 36, 3045, 3967, 2067, 7147, 2580, 171763, 48516, 54881, 912, 2329, 4144, 1248, 3675, 1951]\n",
      "22 [4011, 1282, 1221, 48738, 2324, 5014, 1207, 741, 1266, 104879, 1277, 3147, 1210, 1237, 527, 106594, 912, 1172, 1104, 111759]\n",
      "23 [56782, 1204, 930, 908, 1225, 3503, 68954, 162, 1945, 1207, 3037, 4993, 3275, 31658, 115713, 2565, 1263, 2580, 5952, 4034]\n",
      "24 [1204, 260, 908, 1276, 246, 750, 1235, 4011, 904, 1210, 720, 1196, 2324, 2019, 3275, 2542, 898, 110, 922, 858]\n",
      "25 [1136, 1219, 1291, 2329, 318, 1704, 720, 176, 910, 930, 1203, 1225, 1250, 1276, 4973, 1221, 3435, 933, 1215, 2160]\n",
      "26 [1203, 750, 1198, 1204, 318, 7361, 1276, 27773, 908, 1089, 56782, 48516, 3275, 2959, 608, 50, 527, 1221, 1225, 1213]\n",
      "27 [2396, 4973, 1246, 2329, 1223, 318, 608, 1208, 2692, 2542, 1237, 296, 1242, 27773, 1653, 58, 441, 57504, 2028, 1172]\n",
      "28 [1258, 1274, 79132, 1204, 3468, 177593, 741, 1945, 3740, 912, 904, 2324, 5618, 2396, 115569, 866, 5992, 1246, 1104, 3363]\n",
      "29 [1276, 720, 1261, 2019, 3275, 3451, 527, 2329, 2324, 923, 898, 246, 933, 912, 1248, 1387, 1235, 1089, 162, 170705]\n",
      "30 [296, 1208, 1213, 2858, 475, 1225, 1641, 2019, 5618, 1228, 51255, 1204, 3275, 3037, 5971, 608, 48516, 81834, 6016, 2580]\n",
      "31 [318, 2324, 58559, 589, 2329, 593, 4993, 2959, 5952, 930, 918, 2360, 34405, 778, 3451, 44195, 1704, 608, 56367, 5971]\n",
      "32 [750, 475, 2019, 589, 3275, 1204, 904, 1276, 1210, 4878, 5618, 1617, 720, 7153, 3468, 541, 908, 3508, 2329, 933]\n",
      "33 [56782, 1193, 3341, 720, 1276, 1204, 1945, 1215, 1233, 750, 922, 3435, 68954, 910, 1208, 27773, 8368, 3468, 1284, 1219]\n",
      "34 [750, 260, 1204, 58559, 16, 1242, 593, 1136, 1272, 3114, 56782, 1704, 2329, 1274, 1283, 7371, 48516, 930, 1249, 364]\n",
      "35 [527, 1204, 750, 318, 720, 57669, 6016, 1225, 1617, 3468, 2324, 1079, 2329, 260, 1252, 4878, 2959, 904, 3503, 48516]\n",
      "36 [912, 527, 750, 3435, 3703, 4993, 4226, 858, 1242, 260, 1266, 1204, 930, 3037, 50, 2571, 2019, 3996, 2288, 3578]\n",
      "37 [923, 720, 750, 177593, 1204, 56782, 912, 1203, 57669, 3037, 1274, 2329, 3468, 3451, 1276, 1249, 3429, 858, 1225, 3275]\n",
      "38 [3037, 912, 778, 750, 2288, 1204, 1248, 933, 2571, 4011, 1213, 58, 1221, 56367, 1225, 1261, 1210, 1617, 4034, 2360]\n",
      "39 [1204, 1245, 3468, 1199, 750, 2329, 2788, 5618, 2019, 1206, 1208, 177593, 3949, 1250, 720, 318, 2959, 6711, 27773, 4973]\n",
      "40 [1204, 593, 2324, 3578, 750, 4973, 50, 778, 527, 1208, 1261, 541, 58559, 4011, 4034, 1248, 1235, 1250, 1213, 3468]\n",
      "41 [1203, 1617, 912, 110, 44555, 80549, 968, 1357, 899, 1411, 1248, 3468, 1244, 187717, 51709, 1280, 7022, 933, 55118, 4103]\n",
      "42 [168252, 2288, 56367, 1278, 34405, 1358, 48516, 119145, 1201, 51255, 56782, 589, 7802, 2858, 122882, 54997, 1198, 1250, 1748, 2324]\n",
      "43 [260, 333, 527, 593, 919, 923, 954, 1025, 1080, 1089, 1097, 1136, 1197, 1198, 1208, 1213, 1219, 1222, 1240, 1258]\n",
      "44 [1204, 3275, 1208, 904, 1225, 1246, 3037, 34405, 246, 318, 4011, 441, 720, 296, 1199, 4973, 1089, 56782, 1172, 750]\n",
      "45 [293, 741, 912, 3508, 2144, 134130, 27773, 177593, 115569, 56782, 3681, 3451, 16, 318, 898, 1201, 55167, 38061, 1200, 2019]\n",
      "46 [858, 2571, 1203, 260, 1204, 2959, 2324, 5952, 296, 1221, 6874, 1266, 750, 1089, 7153, 3468, 1196, 1198, 68157, 1291]\n",
      "47 [56782, 1204, 3037, 1274, 91077, 34405, 142488, 1225, 53, 246, 1261, 6460, 3468, 115713, 1242, 1258, 56339, 930, 4995, 56367]\n",
      "48 [296, 904, 1204, 318, 2329, 1201, 912, 50, 1276, 858, 1261, 778, 1196, 1213, 1207, 1136, 2019, 2028, 2324, 1250]\n",
      "49 [1198, 923, 1276, 2329, 720, 1204, 3275, 593, 5952, 38061, 2324, 48516, 1266, 3451, 1221, 7153, 750, 3681, 1213, 177593]\n",
      "50 [1221, 904, 1203, 7361, 50, 1288, 1276, 3836, 56782, 110, 4011, 475, 1237, 5995, 3508, 2329, 1213, 7323, 177593, 720]\n",
      "51 [296, 91529, 2324, 541, 4973, 2076, 750, 68954, 5782, 1204, 2028, 29, 2571, 1222, 1207, 1197, 1252, 223, 112852, 2502]\n",
      "52 [441, 1197, 904, 908, 912, 2019, 589, 858, 1221, 177593, 1394, 1248, 1204, 44555, 898, 1104, 1252, 1208, 2289, 2360]\n",
      "53 [1, 6, 47, 50, 110, 151, 223, 260, 356, 362, 441, 457, 527, 590, 593, 608, 733, 780, 919, 923]\n",
      "54 [1276, 1207, 1204, 1193, 177593, 56782, 2160, 922, 1203, 1704, 1357, 3147, 57669, 858, 1215, 1288, 246, 1250, 1261, 1245]\n",
      "55 [4973, 924, 750, 1204, 3451, 318, 2329, 1261, 2959, 1274, 1036, 3836, 260, 1235, 5971, 1266, 1199, 4226, 3578, 112852]\n",
      "56 [1204, 2329, 109487, 858, 50, 904, 2571, 2019, 6016, 260, 750, 2959, 1210, 1148, 1215, 177593, 741, 3451, 1208, 745]\n",
      "57 [2329, 1235, 1089, 4973, 3949, 7153, 318, 1281, 58559, 89904, 1207, 1261, 7361, 4027, 1213, 82459, 1215, 2542, 1178, 111]\n",
      "58 [57669, 750, 1225, 1276, 2686, 608, 27773, 7361, 2329, 1282, 951, 2078, 1104, 2248, 904, 3083, 1136, 55820, 104879, 1197]\n",
      "59 [1213, 1225, 4993, 51255, 1089, 1204, 1387, 3703, 56782, 112552, 296, 7099, 7153, 475, 1258, 1238, 6016, 2360, 50, 1261]\n",
      "60 [1204, 3037, 3275, 56782, 260, 2160, 1261, 1276, 933, 912, 904, 2571, 1193, 1235, 7153, 4011, 3451, 246, 2542, 4993]\n",
      "61 [1204, 3451, 750, 741, 912, 177593, 904, 1148, 3503, 858, 3037, 3275, 1197, 2019, 3147, 296, 56782, 1235, 1276, 4973]\n",
      "62 [1204, 44555, 904, 3037, 1258, 1172, 1197, 1276, 2019, 750, 608, 92259, 1208, 58, 1245, 1136, 2360, 6016, 1248, 3836]\n",
      "63 [910, 2160, 904, 109487, 1090, 916, 1028, 3328, 1242, 39, 2019, 3503, 1245, 3424, 1079, 69, 1250, 81834, 27563, 1204]\n",
      "64 [750, 1080, 720, 1248, 475, 1235, 1206, 58559, 923, 3468, 912, 1178, 1104, 1262, 51255, 2791, 1237, 1219, 541, 3000]\n",
      "65 [904, 56782, 912, 1276, 1204, 1235, 2324, 1252, 1261, 908, 296, 1207, 1193, 3083, 800, 5618, 3681, 3037, 4995, 38061]\n",
      "66 [750, 1276, 1193, 1250, 56782, 1204, 34405, 3468, 898, 177593, 2160, 3703, 1221, 741, 720, 1945, 115713, 858, 1673, 3503]\n",
      "67 [3037, 1204, 898, 3578, 2324, 904, 720, 177593, 1148, 76093, 48516, 1203, 1089, 1221, 750, 1276, 3468, 116797, 1213, 8014]\n",
      "68 [54190, 106642, 112290, 908, 1280, 55276, 2186, 1262, 3967, 176, 3037, 2940, 2289, 98961, 3435, 56782, 5690, 2600, 171763, 86781]\n",
      "69 [1222, 2324, 750, 720, 1, 527, 1213, 912, 78499, 2019, 56782, 1225, 6377, 58559, 1262, 6016, 1204, 2160, 2580, 741]\n",
      "70 [296, 1204, 1197, 50, 593, 2019, 1266, 6874, 1276, 902, 3275, 4973, 78499, 899, 1215, 1213, 247, 914, 3037, 3451]\n",
      "71 [1283, 48516, 3037, 3114, 2571, 99114, 7371, 318, 4306, 4011, 1203, 1136, 1193, 1223, 356, 951, 3578, 171763, 899, 1035]\n",
      "72 [1204, 3275, 293, 2019, 1235, 1276, 1213, 1215, 1223, 1261, 1197, 1207, 475, 904, 750, 1203, 3037, 1921, 38061, 1274]\n",
      "73 [296, 2019, 1246, 1221, 1266, 318, 3030, 2571, 4973, 50, 2959, 475, 1276, 5500, 1204, 750, 44199, 1136, 3037, 951]\n",
      "74 [1204, 2019, 318, 1213, 356, 1207, 1276, 1198, 2324, 908, 912, 1104, 50, 3147, 3451, 1248, 1258, 750, 720, 177593]\n",
      "75 [3451, 44555, 1252, 50, 933, 1244, 56782, 1242, 2580, 1237, 1215, 31658, 1276, 115713, 7360, 8368, 7022, 3508, 6016, 31364]\n",
      "76 [912, 110, 2329, 1203, 1198, 3578, 2324, 1261, 2396, 1222, 44555, 1387, 720, 903, 1246, 1274, 246, 3147, 4993, 1248]\n",
      "77 [318, 1204, 1089, 1235, 44555, 1387, 858, 2791, 1704, 1276, 1208, 34405, 912, 38061, 2019, 3037, 3703, 56782, 177593, 319]\n",
      "78 [778, 48516, 1207, 858, 7361, 1196, 3275, 2019, 3508, 1201, 2858, 32587, 1080, 2987, 1278, 1221, 50, 1215, 1204, 527]\n",
      "79 [1204, 7153, 1225, 318, 3037, 4995, 1235, 1617, 50, 56782, 110, 1704, 1208, 58559, 44191, 1266, 750, 930, 3275, 7361]\n",
      "80 [1204, 720, 2788, 2580, 933, 1704, 3468, 6711, 3451, 741, 4993, 246, 177593, 1446, 930, 31658, 1193, 7361, 1225, 2067]\n",
      "81 [2324, 2329, 3468, 293, 1204, 1261, 933, 1235, 1215, 2076, 1274, 858, 1213, 1266, 1104, 177593, 1945, 912, 50, 2239]\n",
      "82 [4973, 1204, 44555, 922, 1245, 1223, 1884, 1246, 56367, 2360, 1261, 48516, 318, 1104, 33794, 1199, 1215, 3451, 55118, 1235]\n",
      "83 [475, 908, 2019, 1200, 1276, 1214, 608, 78499, 2360, 1104, 1207, 3435, 101, 1213, 1252, 527, 2571, 1193, 4979, 44555]\n",
      "84 [1252, 3451, 3503, 92259, 56782, 3681, 2067, 6016, 1221, 2329, 720, 1248, 1261, 69481, 1204, 2360, 56367, 2959, 2160, 3030]\n",
      "85 [296, 50, 4973, 1203, 3421, 1204, 720, 1248, 914, 2959, 1197, 3468, 1258, 750, 318, 1212, 1199, 1206, 2329, 2804]\n",
      "86 [56782, 904, 4011, 912, 2329, 1204, 1221, 1276, 750, 1148, 1208, 1193, 720, 1261, 923, 3275, 246, 48516, 6016, 2160]\n",
      "87 [1204, 1242, 1208, 296, 3435, 56782, 1225, 1246, 58559, 3037, 318, 69481, 2019, 2804, 1245, 2329, 1235, 7371, 7153, 593]\n",
      "88 [296, 1250, 3671, 1204, 3468, 3508, 6016, 86345, 608, 4011, 912, 593, 1225, 1208, 1704, 2959, 1201, 923, 2692, 177593]\n",
      "89 [4720, 1261, 1274, 4034, 1719, 4011, 60684, 908, 3683, 5444, 7481, 177593, 72226, 3994, 7212, 8132, 3477, 6333, 912, 96567]\n",
      "90 [912, 56782, 750, 1276, 177593, 1252, 1204, 904, 3681, 720, 2324, 2160, 1225, 1222, 741, 1288, 1207, 1201, 1208, 3424]\n",
      "91 [2324, 7361, 2924, 134130, 1222, 4011, 56782, 3435, 3451, 1204, 3334, 6380, 2858, 1273, 5954, 7981, 1283, 1449, 215, 6711]\n",
      "92 [2324, 2571, 318, 3451, 720, 1198, 741, 3037, 1248, 1221, 3508, 110, 1276, 2019, 912, 1204, 7361, 293, 1136, 2858]\n",
      "93 [2329, 3671, 58559, 79132, 720, 930, 1199, 1225, 3508, 5971, 27773, 34405, 168252, 177593, 933, 1215, 1233, 1884, 3451, 1204]\n",
      "94 [1204, 3275, 177593, 1291, 3451, 3037, 58, 79132, 1203, 933, 1704, 1196, 171763, 1036, 1136, 3030, 1276, 1221, 44191, 3468]\n",
      "95 [750, 1204, 923, 3275, 56782, 527, 318, 3147, 2959, 912, 7153, 4011, 720, 3037, 1080, 109487, 27773, 1250, 4993, 1235]\n",
      "96 [1270, 1204, 1276, 2959, 48516, 56782, 3275, 3037, 904, 11, 73017, 1080, 71535, 3471, 1197, 720, 356, 899, 1278, 2194]\n",
      "97 [318, 260, 1258, 1204, 1196, 1235, 2329, 58559, 1276, 1225, 1261, 1203, 2583, 57669, 1213, 3147, 908, 50, 56782, 4995]\n",
      "98 [3037, 1276, 750, 1089, 2858, 924, 2019, 44555, 1235, 318, 8874, 3681, 60684, 2580, 2959, 3275, 56782, 4034, 1228, 1204]\n",
      "99 [858, 1204, 1198, 1276, 608, 260, 50, 1225, 1193, 7153, 4878, 1219, 2160, 1288, 1215, 57669, 1201, 4993, 1704, 44195]\n",
      "100 [48516, 2324, 56782, 44555, 800, 3681, 1276, 260, 2580, 3451, 457, 51255, 57669, 909, 1242, 44195, 116797, 720, 3468, 3275]\n",
      "101 [750, 2019, 1204, 296, 318, 177593, 1221, 527, 50, 4973, 6711, 1207, 1193, 1261, 858, 111, 2329, 3503, 4011, 2571]\n",
      "102 [1208, 2959, 1204, 3147, 3451, 2542, 4973, 2329, 741, 1207, 3037, 2858, 902, 3030, 2160, 56782, 1089, 246, 1193, 1221]\n",
      "103 [58, 3451, 2324, 1204, 1199, 223, 1261, 106100, 177593, 778, 32, 1235, 1274, 1248, 903, 1653, 44555, 800, 3000, 46578]\n",
      "104 [1204, 912, 898, 1207, 3037, 1276, 33166, 3328, 4034, 899, 3451, 3083, 1945, 3836, 2360, 922, 908, 902, 2239, 904]\n",
      "105 [1204, 177593, 3451, 1261, 246, 3037, 58, 44199, 933, 3468, 1357, 1212, 3030, 4034, 1217, 1267, 2160, 2231, 1276, 919]\n",
      "106 [260, 356, 1203, 1276, 44555, 56782, 1204, 1242, 1196, 1270, 3147, 1221, 48516, 2019, 3681, 1213, 1198, 908, 57669, 750]\n",
      "107 [1204, 56782, 1252, 3451, 1242, 1276, 260, 1261, 2329, 3681, 1266, 750, 5952, 4226, 177593, 57669, 1225, 3730, 1617, 356]\n",
      "108 [296, 1208, 7371, 5618, 58559, 593, 750, 3468, 778, 1258, 2804, 56782, 115713, 527, 904, 4011, 69481, 318, 1276, 4979]\n",
      "109 [3037, 1204, 2324, 1267, 1235, 1213, 1203, 1246, 951, 2396, 4011, 177593, 1223, 1172, 912, 4973, 1276, 1225, 720, 2580]\n",
      "110 [57669, 56782, 1201, 318, 2160, 858, 356, 177593, 593, 2329, 3681, 1221, 1245, 2324, 1261, 904, 58, 1252, 2067, 1204]\n",
      "111 [1276, 800, 1270, 162, 46976, 260, 253, 8874, 314, 1252, 3347, 112552, 3328, 89904, 100383, 720, 910, 6722, 56782, 6807]\n",
      "112 [858, 318, 750, 7438, 27773, 1204, 1221, 1079, 1199, 2019, 6539, 720, 1449, 3468, 4973, 51662, 296, 1203, 1610, 6874]\n",
      "113 [1261, 318, 741, 7121, 1266, 246, 4993, 44195, 106642, 110, 76093, 3022, 32587, 1225, 6874, 2542, 3037, 81847, 36535, 3435]\n",
      "114 [56782, 1245, 1221, 1215, 1276, 750, 2019, 2329, 57669, 3468, 2160, 1204, 1246, 3451, 293, 1261, 1921, 48516, 1089, 3435]\n",
      "115 [1204, 1197, 1270, 1283, 4979, 2329, 909, 608, 3468, 1212, 904, 1394, 3275, 2194, 720, 928, 1235, 750, 51255, 74458]\n",
      "116 [2324, 3037, 1252, 44555, 58, 1235, 7371, 1246, 2565, 48516, 171763, 954, 2111, 922, 1500, 110, 2948, 4642, 7156, 720]\n",
      "117 [1204, 2019, 750, 44555, 2959, 2580, 58559, 4973, 1235, 720, 1248, 908, 4226, 1213, 246, 930, 260, 1246, 1276, 1261]\n",
      "118 [933, 1204, 1276, 3037, 177593, 5618, 720, 318, 904, 56782, 2019, 2580, 750, 930, 3681, 3275, 1172, 6711, 1210, 1233]\n",
      "119 [912, 44555, 1242, 1212, 3451, 50, 246, 3037, 904, 908, 1276, 56782, 2580, 177593, 3030, 1204, 1258, 1252, 1248, 2019]\n",
      "120 [1204, 1208, 922, 318, 1246, 1258, 3468, 1261, 48516, 1225, 2571, 1207, 56782, 1242, 778, 57669, 2580, 1248, 3730, 720]\n",
      "121 [1204, 2858, 58559, 858, 750, 2329, 1704, 2959, 3037, 3468, 1203, 27773, 919, 1219, 1246, 2019, 2028, 48516, 1387, 4011]\n",
      "122 [1198, 1206, 1617, 2329, 720, 914, 58, 904, 912, 1203, 1225, 1266, 1288, 2019, 2324, 750, 1246, 4993, 5952, 7153]\n",
      "123 [1242, 1204, 1258, 246, 56782, 1207, 908, 44555, 904, 1172, 2160, 177593, 1276, 1215, 741, 3037, 223, 2324, 4973, 4011]\n",
      "124 [750, 1204, 177593, 1274, 56782, 741, 2959, 1276, 1258, 858, 1225, 1193, 898, 912, 1208, 1704, 3468, 1104, 2160, 1203]\n",
      "125 [1276, 1204, 1212, 56782, 2788, 912, 930, 1617, 1225, 720, 3037, 2324, 3910, 8636, 104879, 177593, 951, 3681, 1945, 6331]\n",
      "126 [1276, 3451, 3037, 1217, 1261, 142488, 6791, 1209, 1242, 1266, 3967, 1291, 2160, 69481, 1089, 1270, 4011, 6016, 922, 2542]\n",
      "127 [1203, 318, 527, 858, 356, 109487, 260, 922, 1204, 1270, 1221, 1198, 97304, 1719, 2160, 898, 3037, 57669, 177593, 1089]\n",
      "128 [1276, 318, 1204, 3451, 356, 3681, 720, 1246, 7371, 44555, 2324, 16, 909, 1148, 951, 2231, 56782, 899, 293, 902]\n",
      "129 [593, 1261, 1245, 318, 1276, 69481, 1204, 1235, 1213, 57669, 1266, 2324, 720, 3037, 2019, 2357, 2160, 904, 7361, 1374]\n",
      "130 [1221, 2329, 58559, 58, 1204, 858, 1617, 3030, 912, 923, 1198, 720, 260, 1225, 1261, 3147, 527, 1387, 5995, 2858]\n",
      "131 [1235, 1197, 27773, 750, 720, 1225, 3468, 3508, 1208, 1204, 1207, 1198, 1246, 1199, 527, 69481, 7371, 88163, 2019, 930]\n",
      "132 [1080, 720, 441, 1215, 930, 3451, 1278, 933, 1237, 1201, 1242, 1104, 92259, 2067, 177593, 1204, 3508, 1193, 3503, 741]\n",
      "133 [1204, 1197, 1136, 56782, 2329, 57669, 1235, 1223, 3435, 1196, 441, 48516, 1245, 2788, 3275, 1246, 930, 3037, 71899, 741]\n",
      "134 [858, 1204, 318, 3037, 1198, 1261, 527, 34405, 2959, 904, 750, 4993, 246, 50, 1215, 720, 1225, 1203, 1208, 1673]\n",
      "135 [541, 750, 1221, 1193, 1104, 5690, 3949, 4973, 3037, 1089, 56782, 7361, 441, 3451, 3683, 1219, 8949, 1245, 1238, 1204]\n",
      "136 [142488, 318, 246, 2935, 2360, 27773, 1204, 912, 3037, 58, 171763, 4011, 56782, 750, 720, 1248, 28, 733, 1283, 1228]\n",
      "137 [2160, 720, 1276, 56782, 3037, 933, 2329, 7361, 6711, 5690, 162, 1261, 3451, 741, 914, 176, 1387, 3435, 441, 4011]\n",
      "138 [1204, 750, 527, 2019, 79132, 5971, 720, 1207, 106642, 260, 48516, 5952, 3275, 6377, 3468, 4993, 1225, 1235, 318, 1387]\n",
      "139 [922, 1204, 1197, 1242, 608, 4973, 750, 1248, 27773, 1199, 858, 50, 64716, 5618, 1208, 969, 6711, 16, 2019, 38061]\n",
      "140 [2959, 1197, 3275, 475, 112552, 112852, 79132, 177593, 57669, 1282, 1148, 115713, 27773, 589, 1086, 51662, 6016, 3429, 7147, 3468]\n",
      "141 [750, 1204, 3468, 1276, 475, 1242, 3328, 177593, 3503, 56782, 2324, 6787, 1225, 2329, 912, 1641, 951, 1945, 3083, 608]\n",
      "142 [2858, 2959, 6016, 1198, 3508, 912, 750, 2019, 1276, 318, 3275, 2324, 56782, 720, 741, 858, 1266, 4995, 44555, 1136]\n",
      "143 [912, 908, 1246, 1235, 38061, 899, 1204, 1276, 1148, 898, 1250, 50872, 1225, 33794, 1261, 951, 177593, 3037, 1207, 6350]\n",
      "144 [1204, 2324, 2019, 56782, 246, 1235, 7361, 34405, 1242, 720, 2580, 750, 1199, 1206, 2997, 5971, 27773, 1221, 923, 1261]\n",
      "145 [56782, 2019, 750, 930, 1204, 5618, 1276, 1617, 1266, 2571, 475, 720, 1225, 7022, 3275, 48516, 1242, 1196, 2804, 27773]\n",
      "146 [1276, 4011, 1261, 356, 2329, 1193, 2959, 3451, 1204, 318, 56782, 2858, 1104, 2067, 1945, 1207, 720, 922, 2160, 58559]\n",
      "147 [260, 318, 527, 593, 3275, 904, 750, 1208, 2542, 608, 1235, 115617, 1719, 1266, 1197, 6016, 1261, 3037, 1204, 110]\n",
      "148 [912, 1276, 1193, 3037, 44555, 2580, 246, 3578, 2324, 898, 1213, 56782, 527, 2858, 2583, 908, 608, 2019, 318, 1233]\n",
      "149 [2959, 912, 527, 1261, 4226, 50, 858, 778, 2324, 318, 4878, 111, 1221, 1242, 246, 1193, 56782, 2360, 3949, 27773]\n",
      "150 [750, 778, 1204, 3451, 1274, 4973, 1104, 296, 912, 2329, 589, 720, 3275, 1258, 541, 4226, 56782, 858, 1242, 5618]\n",
      "151 [1213, 930, 1387, 1207, 720, 3275, 1246, 1193, 3037, 48516, 899, 1235, 1103, 142488, 5902, 177593, 1641, 1276, 170705, 1225]\n",
      "152 [1204, 1261, 3468, 930, 3451, 1266, 7371, 1200, 3435, 56782, 293, 933, 5618, 902, 3275, 1242, 3037, 1276, 741, 38061]\n",
      "153 [3451, 589, 32, 3435, 902, 1228, 1136, 3676, 1235, 3275, 110, 4144, 1263, 1446, 2997, 33166, 8874, 1653, 2144, 912]\n",
      "154 [904, 457, 1198, 912, 3037, 6016, 4993, 750, 56782, 1276, 1223, 1248, 1196, 2788, 3147, 3468, 858, 922, 1104, 2019]\n",
      "155 [1204, 475, 318, 7371, 44555, 3037, 3468, 177593, 1246, 58559, 750, 3703, 1252, 1104, 1704, 2565, 1276, 4973, 56367, 48516]\n",
      "156 [1258, 527, 2231, 589, 44555, 56782, 27773, 34405, 2580, 2324, 1280, 44195, 3730, 5690, 2565, 4993, 44191, 3681, 104879, 3703]\n",
      "157 [858, 750, 318, 1250, 109487, 912, 1276, 2324, 1221, 1089, 1198, 904, 3681, 3503, 2571, 541, 56782, 1240, 6016, 898]\n",
      "158 [318, 1204, 2959, 1245, 3037, 2329, 1208, 4973, 58559, 2360, 1242, 56367, 1197, 1210, 750, 3030, 8874, 32, 441, 246]\n",
      "159 [930, 912, 1266, 858, 899, 1233, 1252, 1276, 1267, 3037, 3451, 1411, 1193, 902, 608, 2329, 1189, 177593, 76093, 176]\n",
      "160 [1193, 912, 318, 4226, 1617, 2288, 2951, 1207, 2336, 2019, 1060, 497, 45728, 1104, 1248, 2973, 48780, 4878, 106918, 750]\n",
      "161 [4973, 904, 1204, 1089, 3037, 3275, 50, 246, 2959, 177593, 48516, 2788, 1242, 3578, 2329, 1261, 922, 1213, 750, 1221]\n",
      "162 [1193, 142488, 69481, 741, 1204, 2324, 593, 1233, 1276, 902, 3037, 68954, 1262, 912, 293, 720, 5618, 1245, 1266, 1201]\n",
      "163 [1387, 55118, 1276, 1235, 1204, 2160, 908, 1213, 318, 3468, 3037, 2329, 5971, 1200, 1207, 1242, 3435, 177593, 7371, 933]\n",
      "164 [1235, 3275, 260, 1274, 912, 908, 1199, 2324, 1276, 904, 44555, 1204, 3681, 750, 1221, 922, 4993, 44191, 3451, 2329]\n",
      "165 [1204, 8368, 1213, 56782, 2959, 1276, 2329, 930, 2788, 527, 57669, 1215, 741, 1266, 69481, 3037, 3030, 1246, 44555, 38061]\n",
      "166 [56782, 750, 1204, 3435, 2019, 933, 69481, 58559, 2804, 57669, 1266, 68358, 1215, 1261, 475, 1252, 78499, 745, 912, 3451]\n",
      "167 [1204, 858, 1223, 1704, 1206, 3451, 3037, 904, 134130, 1280, 4226, 2160, 1203, 97304, 1089, 4262, 4848, 92259, 1084, 69481]\n",
      "168 [1204, 318, 1250, 1235, 1411, 3037, 720, 1267, 2959, 56782, 6711, 527, 3468, 1387, 2580, 177593, 2324, 4720, 904, 1673]\n",
      "169 [110, 923, 2329, 1263, 904, 908, 912, 1225, 750, 1193, 1207, 1261, 7361, 1221, 1228, 3435, 6016, 778, 6807, 34405]\n",
      "170 [2959, 177593, 58559, 1276, 912, 923, 6787, 1225, 58, 750, 1208, 1204, 1221, 608, 1089, 1387, 1252, 79132, 1028, 1945]\n",
      "171 [1213, 1222, 2571, 2580, 2959, 58559, 109487, 3949, 908, 1199, 1250, 2019, 2324, 750, 922, 1207, 1261, 3683, 7361, 1221]\n",
      "172 [1222, 720, 2324, 930, 1212, 318, 177593, 2571, 923, 1225, 1203, 933, 56782, 1207, 912, 1276, 904, 2288, 741, 79132]\n",
      "173 [56782, 1276, 2571, 858, 720, 1245, 1221, 2160, 38061, 3037, 1198, 912, 1233, 2959, 1261, 1215, 1148, 6016, 318, 1204]\n",
      "174 [3037, 912, 177593, 1221, 142488, 44555, 2959, 1204, 30749, 1207, 74458, 919, 1262, 1225, 44191, 47, 1213, 7371, 1212, 48516]\n",
      "175 [318, 1225, 1204, 475, 44555, 48780, 750, 2019, 2324, 1193, 3435, 6016, 1250, 3703, 1299, 720, 56782, 914, 6591, 71899]\n",
      "176 [1276, 3681, 177593, 1261, 1215, 3037, 56782, 69481, 1172, 34405, 2360, 904, 1104, 7371, 919, 1945, 2329, 933, 1258, 1280]\n",
      "177 [4973, 3328, 2810, 741, 3037, 55820, 951, 1246, 3468, 3435, 104879, 1280, 1276, 46723, 1090, 1262, 2395, 1079, 1201, 1204]\n",
      "178 [720, 904, 1221, 1204, 3949, 1248, 1208, 1148, 1197, 2700, 1276, 1223, 1234, 246, 858, 3435, 930, 912, 3275, 3037]\n",
      "179 [1204, 177593, 1235, 1221, 904, 7371, 1242, 1266, 1704, 858, 1210, 1203, 57669, 912, 720, 1276, 260, 4011, 4973, 3275]\n",
      "180 [1204, 1245, 318, 51255, 296, 57669, 720, 177593, 1276, 1225, 1704, 56782, 8874, 2067, 1357, 246, 1215, 1235, 1233, 1673]\n",
      "181 [930, 527, 2804, 720, 2959, 3037, 1258, 1387, 3468, 2324, 922, 177593, 6711, 1283, 56782, 750, 3275, 104879, 44195, 74458]\n",
      "182 [55820, 1288, 1945, 910, 1201, 2324, 69481, 78499, 3508, 56782, 1266, 81845, 1249, 916, 7099, 1299, 31658, 68157, 553, 2951]\n",
      "183 [260, 1204, 3037, 922, 2542, 4011, 3468, 750, 318, 356, 720, 3147, 904, 7361, 1235, 1219, 741, 1258, 2160, 898]\n",
      "184 [2959, 2571, 527, 858, 750, 7361, 2858, 2019, 1204, 1198, 1225, 6016, 593, 318, 48516, 3508, 3334, 8636, 1199, 1193]\n",
      "185 [2959, 1242, 38061, 1245, 3468, 56782, 6711, 1266, 1204, 296, 6874, 750, 4973, 4993, 2788, 5971, 1136, 1199, 44555, 1704]\n",
      "186 [177593, 356, 57669, 1276, 1215, 2067, 3030, 2580, 3468, 1242, 1704, 2329, 930, 2360, 933, 1261, 4848, 1172, 922, 3451]\n",
      "187 [910, 1248, 56367, 1230, 1193, 80549, 1245, 1233, 4973, 1228, 46578, 1945, 902, 68157, 177593, 66097, 3275, 58, 5380, 56782]\n",
      "188 [1276, 6016, 1198, 2329, 56782, 1203, 1213, 7153, 112552, 1204, 1208, 3037, 3508, 1291, 1250, 3114, 1270, 318, 2160, 3275]\n",
      "189 [1204, 904, 1246, 50, 1215, 1261, 922, 2329, 1148, 296, 1250, 1276, 4973, 3037, 930, 2160, 177593, 750, 3275, 2019]\n",
      "190 [1248, 1237, 1270, 1204, 1223, 3683, 720, 44555, 2788, 3037, 750, 2580, 3147, 1103, 475, 58, 4642, 951, 2019, 296]\n",
      "191 [5618, 4973, 541, 2019, 51255, 593, 1199, 2997, 475, 1258, 2686, 1248, 3000, 1204, 3275, 109487, 4642, 81834, 2186, 1272]\n",
      "192 [1276, 1204, 2160, 3451, 56782, 922, 3037, 3503, 1288, 898, 1136, 2202, 111759, 1089, 177593, 720, 48738, 3275, 91529, 1148]\n",
      "193 [541, 1204, 3578, 933, 3275, 247, 4011, 1261, 142488, 898, 3037, 1222, 1258, 1945, 866, 48738, 1250, 750, 177593, 1235]\n",
      "194 [1204, 1242, 2571, 720, 922, 1387, 1215, 1704, 750, 3037, 1276, 3435, 527, 356, 593, 904, 933, 1673, 1617, 1200]\n",
      "195 [1242, 1204, 930, 2160, 356, 6440, 3435, 2959, 3037, 2542, 3836, 1172, 4011, 7090, 56782, 5902, 1207, 71899, 1245, 720]\n",
      "196 [4011, 4306, 750, 1204, 1235, 912, 720, 38061, 3037, 1246, 8132, 1222, 56782, 1207, 1213, 922, 56367, 1178, 2329, 1193]\n",
      "197 [475, 3703, 3681, 96821, 68954, 930, 1104, 904, 1204, 912, 56782, 3451, 56367, 3503, 3037, 2360, 1394, 750, 1258, 3275]\n",
      "198 [1207, 104879, 79702, 57669, 2398, 293, 177593, 48516, 492, 1201, 951, 898, 1203, 3083, 899, 112183, 119145, 30745, 40819, 1276]\n",
      "199 [4993, 7153, 1148, 2019, 5952, 5618, 1199, 1248, 1673, 162, 2959, 3275, 1283, 1221, 66934, 112552, 3508, 3468, 79132, 922]\n",
      "200 [7371, 1673, 1204, 1233, 3037, 1242, 750, 7147, 922, 2289, 908, 26810, 2804, 85342, 1394, 1245, 364, 1104, 1223, 2580]\n",
      "201 [4306, 1276, 1387, 1201, 364, 908, 924, 720, 1234, 7132, 3996, 44555, 1207, 56782, 898, 28, 2329, 52435, 899, 5060]\n",
      "202 [3275, 4973, 2329, 527, 1258, 3435, 1193, 1213, 1261, 720, 1225, 904, 1235, 3037, 1248, 78499, 47, 56782, 6377, 2067]\n",
      "203 [1204, 1203, 527, 3468, 2542, 858, 1210, 2959, 1276, 1213, 50, 27773, 2324, 1199, 1193, 1291, 608, 1196, 1104, 5618]\n",
      "204 [7153, 1242, 50, 1198, 30707, 1270, 1276, 6016, 5952, 912, 1097, 260, 750, 318, 1204, 608, 5971, 57669, 2028, 1215]\n",
      "205 [318, 1204, 296, 6711, 1245, 750, 1196, 2580, 3275, 720, 1172, 246, 1201, 1208, 3451, 4973, 1193, 44555, 3037, 2019]\n",
      "206 [318, 2959, 50, 1221, 2019, 750, 1213, 1204, 56782, 2329, 3037, 1246, 1201, 2858, 1225, 6016, 593, 3468, 1276, 1208]\n",
      "207 [44555, 912, 750, 2019, 1261, 1250, 3037, 5992, 1221, 475, 3451, 50, 3435, 1215, 68954, 922, 1945, 246, 541, 2935]\n",
      "208 [1204, 57669, 56782, 593, 2329, 318, 1193, 912, 1276, 34405, 296, 750, 1197, 1945, 4226, 1208, 3468, 858, 58559, 2959]\n",
      "209 [1204, 58559, 1235, 1242, 3275, 908, 922, 933, 750, 3037, 1196, 4995, 260, 50, 3147, 1203, 56782, 2019, 741, 3435]\n",
      "210 [3996, 318, 1204, 898, 1207, 3037, 930, 50, 1261, 1267, 2019, 2542, 1235, 48516, 1704, 1266, 922, 1258, 4034, 2580]\n",
      "211 [3508, 4973, 1204, 1276, 110, 1250, 912, 904, 1201, 3451, 527, 541, 1104, 2396, 1207, 3275, 1237, 1884, 1193, 593]\n",
      "212 [1204, 1104, 56782, 6440, 1212, 2804, 3037, 4034, 2329, 44555, 930, 46976, 954, 3275, 1245, 1276, 1225, 1884, 908, 1252]\n",
      "213 [2329, 778, 1276, 318, 1245, 56367, 1215, 1233, 3037, 1193, 5618, 56782, 1201, 1204, 51255, 3468, 2571, 904, 246, 1704]\n",
      "214 [1204, 296, 3451, 904, 318, 1198, 3037, 912, 858, 1276, 4973, 1201, 1228, 44555, 27773, 1704, 1221, 1248, 2288, 3275]\n",
      "215 [2580, 1204, 908, 720, 1235, 3275, 246, 1248, 1261, 1276, 933, 1213, 904, 2019, 1258, 6350, 923, 177593, 44195, 2761]\n",
      "216 [1089, 48516, 1261, 1276, 720, 6016, 50, 2019, 3037, 79132, 3468, 3275, 1247, 2329, 1193, 38061, 1103, 1303, 104879, 1223]\n",
      "217 [3578, 34405, 55118, 7371, 7147, 3275, 2565, 1225, 48516, 916, 246, 908, 149508, 3703, 81834, 2159, 3681, 58559, 2599, 2580]\n",
      "218 [541, 1199, 1221, 4973, 2571, 2959, 1258, 2324, 1242, 1172, 318, 1208, 1213, 3508, 1237, 912, 904, 7153, 1089, 1204]\n",
      "219 [1200, 1208, 1245, 1247, 1215, 750, 109487, 3508, 1201, 1261, 78499, 1235, 2288, 2019, 79132, 122926, 89492, 6350, 64614, 91529]\n",
      "220 [899, 1234, 593, 1201, 1148, 1204, 1215, 1207, 1276, 1235, 3468, 1617, 2019, 1223, 170705, 2067, 527, 57669, 293, 1221]\n",
      "221 [58559, 56367, 1210, 1242, 3451, 1235, 56782, 2329, 46578, 1246, 69481, 2231, 4011, 3275, 720, 48516, 3910, 5952, 3000, 4993]\n",
      "222 [1704, 1204, 1219, 1080, 7153, 1197, 1967, 1291, 69481, 1203, 57669, 593, 2019, 318, 1921, 168252, 1210, 177593, 1245, 1196]\n",
      "223 [1204, 1258, 1261, 3451, 1212, 902, 1225, 1945, 1263, 1267, 3030, 1199, 56782, 1215, 720, 2360, 3037, 48738, 356, 3435]\n",
      "224 [2959, 318, 79132, 912, 1203, 2324, 1252, 1276, 6016, 3275, 177593, 3451, 1041, 5992, 109487, 2858, 104879, 590, 106782, 1221]\n",
      "225 [260, 527, 750, 7371, 1198, 1204, 1207, 608, 720, 6016, 2019, 318, 1213, 1242, 2150, 177593, 57669, 2329, 908, 1215]\n",
      "226 [593, 1221, 750, 4226, 541, 720, 1201, 3508, 2019, 6016, 56782, 3503, 3949, 177593, 527, 4848, 2692, 1080, 1203, 68954]\n",
      "227 [1204, 48516, 1250, 1387, 922, 741, 3503, 177593, 2329, 1276, 4973, 3037, 7361, 5952, 1197, 914, 951, 1223, 909, 441]\n",
      "228 [1204, 1089, 1252, 1213, 741, 475, 3451, 2019, 720, 1945, 56782, 1266, 593, 142488, 1237, 171763, 3503, 750, 2762, 2329]\n",
      "229 [1198, 1291, 1276, 1207, 7153, 4993, 1246, 1213, 38061, 904, 44555, 1196, 1210, 4011, 2571, 1221, 1288, 3508, 2329, 58559]\n",
      "230 [3200, 6711, 922, 7371, 34405, 2580, 68358, 1408, 2231, 899, 1235, 68954, 356, 969, 3730, 58559, 246, 1945, 3030, 44199]\n",
      "231 [951, 177593, 3275, 6711, 57669, 1261, 2959, 741, 1197, 2028, 38061, 1204, 930, 134130, 1215, 922, 27773, 48516, 1276, 475]\n",
      "232 [4973, 293, 593, 1204, 1172, 1261, 2067, 912, 1213, 903, 2542, 2019, 2692, 1252, 1221, 50, 1104, 3451, 904, 1704]\n",
      "233 [1221, 1204, 1203, 1213, 260, 1104, 2160, 904, 923, 1198, 4226, 916, 1245, 1261, 1704, 922, 750, 3275, 2542, 1276]\n",
      "234 [593, 1193, 7361, 2959, 750, 527, 2160, 356, 1288, 2329, 1204, 2324, 910, 56782, 555, 55820, 57669, 48738, 1242, 1197]\n",
      "235 [2329, 858, 778, 2571, 1198, 4995, 1204, 4011, 293, 1242, 58559, 2160, 1246, 1266, 912, 1288, 1213, 1261, 4973, 1225]\n",
      "236 [1204, 951, 3468, 1235, 48516, 1213, 3037, 1035, 1225, 1276, 1198, 318, 475, 1266, 3030, 923, 293, 5952, 51255, 1104]\n",
      "237 [296, 3508, 2329, 7153, 1276, 1204, 3275, 904, 1196, 720, 1266, 1270, 1200, 858, 1291, 1704, 778, 750, 1248, 1199]\n",
      "238 [3030, 1245, 142488, 741, 2360, 1276, 750, 1252, 1274, 3451, 1261, 1089, 110, 2329, 6711, 318, 44191, 177593, 3037, 1204]\n",
      "239 [912, 1204, 1248, 2324, 4226, 1245, 527, 1261, 4973, 44195, 2580, 2761, 3030, 265, 1258, 951, 2019, 2160, 3435, 441]\n",
      "240 [527, 750, 3275, 1204, 2360, 3200, 3578, 3037, 6440, 930, 246, 1387, 1261, 104879, 2804, 4011, 3435, 3265, 112552, 91077]\n",
      "241 [1204, 1235, 177593, 1258, 3681, 2329, 356, 1276, 1245, 930, 58559, 56782, 922, 1246, 57669, 1261, 1213, 2067, 1207, 2194]\n",
      "242 [4973, 1104, 1204, 904, 750, 922, 1235, 1261, 7371, 3275, 1258, 293, 58559, 1225, 741, 7361, 50, 2329, 3030, 2788]\n",
      "243 [1089, 2959, 930, 34405, 1237, 1945, 1235, 7371, 1215, 110, 475, 1387, 1204, 3037, 162, 6711, 2360, 2565, 246, 168252]\n",
      "244 [48516, 2329, 58559, 1221, 4973, 1198, 51255, 260, 318, 919, 1148, 68157, 3328, 1136, 296, 1208, 2542, 1291, 2959, 1213]\n",
      "245 [720, 318, 1276, 260, 356, 56782, 1242, 3275, 3996, 3037, 1246, 122926, 1204, 922, 1207, 4226, 930, 1266, 2329, 27773]\n",
      "246 [1258, 318, 720, 1204, 1242, 1274, 2194, 3037, 1276, 142488, 177593, 1104, 3681, 908, 56782, 750, 1235, 3030, 912, 4034]\n",
      "247 [750, 1276, 1203, 1204, 56782, 3468, 1223, 1215, 916, 1219, 922, 720, 3435, 1104, 6711, 3037, 1079, 57669, 7371, 247]\n",
      "248 [898, 1261, 1276, 1203, 318, 3037, 2324, 3468, 1945, 50, 912, 720, 1193, 1215, 69481, 6711, 1235, 177593, 58, 1207]\n",
      "249 [720, 1276, 1136, 1245, 1204, 2324, 1248, 2019, 3037, 1387, 27773, 1215, 1223, 3508, 741, 1235, 6, 6016, 1278, 930]\n",
      "250 [3037, 1204, 1235, 1266, 1921, 1080, 142488, 293, 1089, 2761, 2959, 930, 2160, 1213, 750, 148626, 56782, 177593, 5952, 5971]\n",
      "251 [923, 2329, 2858, 720, 930, 3996, 750, 1252, 1276, 3275, 933, 1215, 56782, 3451, 1204, 1266, 858, 4306, 115713, 6711]\n",
      "252 [750, 318, 1845, 58559, 1235, 3030, 2324, 56782, 6350, 1266, 1225, 3037, 68954, 44555, 3435, 593, 4011, 47, 6711, 475]\n",
      "253 [318, 1204, 527, 1213, 3468, 3037, 3275, 930, 1089, 293, 933, 2788, 1387, 2329, 923, 1276, 750, 34405, 720, 1233]\n",
      "254 [1204, 1225, 1199, 933, 750, 908, 1221, 1242, 778, 3468, 2067, 1193, 1276, 1207, 2997, 1261, 3037, 1267, 44555, 899]\n",
      "255 [4027, 3030, 1258, 110, 720, 34405, 1278, 246, 750, 2324, 58559, 1245, 1222, 5952, 1945, 1203, 2700, 1204, 2763, 7371]\n",
      "256 [2329, 122886, 2324, 1223, 6711, 6016, 3037, 1089, 2160, 930, 177593, 3275, 1291, 1215, 1261, 1235, 57669, 3671, 1, 922]\n",
      "257 [1246, 904, 1193, 912, 902, 1276, 356, 908, 1204, 951, 1242, 1172, 2959, 4034, 1207, 56782, 2160, 930, 318, 3083]\n",
      "258 [858, 1204, 750, 3503, 2329, 3451, 3037, 3275, 1250, 741, 1148, 1262, 1208, 898, 356, 904, 1207, 1198, 914, 1261]\n",
      "259 [1213, 1221, 177593, 3037, 1041, 1197, 541, 720, 1200, 1198, 1089, 902, 1104, 1261, 1266, 3451, 2324, 1196, 1210, 6016]\n",
      "260 [1276, 1204, 912, 318, 2028, 3037, 858, 1193, 1704, 1248, 2858, 1, 7451, 1197, 1291, 933, 1201, 7153, 1283, 260]\n",
      "261 [527, 3275, 2542, 2324, 922, 260, 2959, 904, 4011, 111, 48516, 778, 720, 898, 4995, 6016, 1276, 912, 3578, 27773]\n",
      "262 [1387, 3037, 1201, 1204, 6711, 750, 1207, 6377, 78499, 2019, 3030, 32, 1235, 1242, 1266, 1234, 5952, 4993, 1197, 2502]\n",
      "263 [260, 1276, 1235, 1204, 3037, 2160, 1203, 3468, 1242, 44555, 933, 750, 1288, 908, 57669, 56782, 1244, 177593, 51255, 148626]\n",
      "264 [1219, 6016, 7153, 232, 919, 3468, 1204, 3147, 3503, 57669, 4993, 8014, 608, 112552, 912, 914, 750, 56782, 7147, 2959]\n",
      "265 [8636, 904, 1204, 1387, 71899, 1291, 3037, 57669, 104879, 2019, 1197, 356, 377, 6016, 1704, 171763, 34405, 1148, 1641, 2360]\n",
      "266 [750, 6711, 858, 5952, 1193, 1245, 4993, 527, 3671, 4973, 1221, 1230, 48516, 6874, 8636, 58559, 4979, 7438, 3578, 3000]\n",
      "267 [904, 1204, 4973, 858, 1104, 922, 750, 58559, 1208, 720, 7153, 1223, 6460, 51255, 3275, 1221, 7099, 1148, 1704, 38061]\n",
      "268 [527, 1204, 750, 912, 7153, 741, 4993, 2959, 1250, 3503, 56782, 162, 5618, 1219, 3037, 2997, 1178, 608, 541, 296]\n",
      "269 [1204, 1213, 750, 858, 69481, 1215, 1200, 50, 593, 34405, 56782, 1193, 293, 177593, 1276, 318, 7371, 3000, 2959, 1089]\n",
      "270 [3468, 2160, 2788, 1204, 2761, 2324, 56782, 1136, 5418, 930, 922, 441, 5952, 1258, 8961, 318, 4993, 1242, 1653, 593]\n",
      "271 [4993, 79132, 904, 3275, 1235, 1199, 3037, 7153, 4973, 720, 1221, 6711, 1198, 44555, 6016, 3468, 1204, 5747, 2019, 7371]\n",
      "272 [1204, 1246, 51255, 58559, 1276, 1210, 1213, 177593, 1261, 57669, 2959, 48516, 2580, 2360, 1235, 296, 3681, 3468, 44555, 69481]\n",
      "273 [858, 527, 1204, 318, 904, 50, 912, 1276, 3037, 1248, 56782, 2019, 1196, 1235, 2580, 2571, 898, 908, 1201, 441]\n",
      "274 [1207, 1204, 3030, 720, 1212, 741, 1225, 44555, 1242, 951, 246, 1245, 1617, 7669, 307, 7099, 1281, 168252, 177593, 106782]\n",
      "275 [1240, 5618, 68954, 1357, 8784, 5500, 48780, 6807, 1204, 78499, 94959, 69481, 1276, 39231, 5989, 720, 7090, 6350, 475, 2288]\n",
      "276 [50, 296, 608, 1089, 1136, 1197, 1198, 1208, 1213, 1282, 2078, 2329, 2571, 2959, 3147, 318, 1704, 58559, 71535, 109487]\n",
      "277 [750, 50, 1204, 908, 177593, 44555, 1266, 2959, 1203, 1089, 608, 4226, 1221, 720, 318, 922, 1242, 1225, 2019, 6711]\n",
      "278 [1204, 858, 1213, 1221, 2959, 1276, 1193, 1089, 2019, 1104, 1248, 1261, 1197, 3037, 2329, 912, 953, 1262, 1208, 177593]\n",
      "279 [2324, 922, 3681, 750, 1203, 3147, 904, 1248, 3435, 1207, 1276, 6016, 1235, 71899, 5747, 3451, 898, 2580, 3703, 1261]\n",
      "280 [1258, 56782, 1261, 1225, 1215, 2329, 1204, 475, 2959, 899, 3503, 1276, 2804, 3037, 176, 3275, 112852, 912, 858, 78499]\n",
      "281 [858, 933, 1204, 110, 1248, 1276, 27773, 1203, 318, 1617, 1193, 908, 750, 44195, 1258, 904, 246, 3275, 4034, 58]\n",
      "282 [1242, 3037, 1250, 1223, 922, 2160, 1261, 910, 1276, 3503, 2324, 1204, 112552, 38061, 5690, 69481, 1248, 1288, 1266, 68954]\n",
      "283 [1245, 1203, 3451, 1258, 1248, 1276, 56782, 1221, 3681, 1104, 47, 1270, 3037, 3508, 68157, 2160, 293, 858, 1198, 1215]\n",
      "284 [750, 1204, 2542, 1263, 923, 3037, 57669, 1235, 1215, 527, 1223, 1213, 1203, 1291, 904, 2571, 260, 1089, 924, 2797]\n",
      "285 [1245, 57669, 56782, 2324, 3681, 1210, 1261, 750, 866, 2288, 898, 260, 1248, 71899, 177593, 593, 2788, 3703, 44195, 2571]\n",
      "286 [1204, 1274, 858, 741, 1196, 142488, 1209, 1201, 177593, 908, 1235, 1240, 1213, 1250, 1704, 3037, 912, 3275, 750, 1245]\n",
      "287 [296, 3275, 4226, 1080, 750, 1199, 745, 1148, 1265, 1219, 2858, 89904, 2019, 1221, 923, 6874, 930, 1204, 1220, 3037]\n",
      "288 [1235, 50, 720, 858, 5971, 7099, 38061, 1223, 6440, 1212, 29, 898, 2019, 16, 1089, 1178, 3000, 4973, 3503, 112552]\n",
      "289 [912, 1204, 1276, 177593, 527, 741, 56782, 720, 1222, 2324, 930, 3275, 1225, 318, 475, 3681, 1213, 1203, 71899, 4967]\n",
      "290 [720, 1201, 56782, 4973, 58559, 3451, 1104, 5618, 1261, 2804, 57669, 741, 3083, 933, 1212, 3037, 3681, 1235, 2324, 48516]\n",
      "291 [318, 1089, 2019, 296, 1197, 3037, 1204, 1213, 3275, 1193, 50, 44555, 951, 2324, 69481, 55820, 3468, 1246, 912, 909]\n",
      "292 [1242, 922, 1246, 111759, 1223, 1641, 3967, 1204, 293, 2791, 1197, 142488, 5669, 2067, 54190, 1282, 27801, 3037, 99813, 2351]\n",
      "293 [3037, 1204, 58, 177593, 904, 1258, 3275, 318, 930, 3468, 50, 527, 933, 898, 1203, 720, 1242, 4720, 1197, 2959]\n",
      "294 [589, 1274, 3275, 3000, 2028, 318, 1704, 1036, 1097, 904, 44191, 1200, 1997, 1266, 475, 64575, 3477, 1625, 158966, 1235]\n",
      "295 [1204, 527, 2028, 750, 1197, 2858, 3468, 1258, 3037, 2019, 1136, 1208, 1387, 4011, 922, 3996, 1267, 2997, 3275, 3000]\n",
      "296 [720, 750, 910, 1242, 1276, 1207, 1262, 1221, 3508, 1408, 1200, 78499, 122926, 68954, 68157, 922, 7361, 1089, 589, 3468]\n",
      "297 [318, 296, 1276, 1208, 177593, 904, 1245, 1221, 4993, 1193, 260, 1704, 858, 1261, 741, 356, 7153, 1201, 3508, 3037]\n",
      "298 [1245, 1704, 1104, 1223, 69481, 4262, 3000, 1276, 1090, 933, 593, 2761, 2028, 1219, 31658, 168252, 105504, 26258, 1250, 99764]\n",
      "299 [1204, 858, 2959, 3451, 318, 904, 3468, 750, 527, 741, 2329, 1221, 2160, 177593, 3681, 1196, 56782, 1193, 2571, 1148]\n",
      "300 [1204, 750, 1197, 1089, 3037, 246, 1193, 296, 3451, 2019, 1199, 1196, 162, 720, 3275, 50, 898, 1248, 741, 1719]\n",
      "301 [593, 2959, 898, 1204, 1199, 2160, 858, 57669, 750, 1288, 3503, 5618, 1207, 922, 4642, 3083, 1261, 51255, 112552, 1203]\n",
      "302 [527, 1204, 1276, 318, 720, 750, 1248, 2019, 1203, 79132, 3468, 1208, 44555, 1199, 904, 3275, 593, 69481, 2788, 1213]\n",
      "303 [1250, 1193, 750, 1274, 1204, 933, 1276, 176, 457, 177593, 720, 3578, 608, 6711, 1221, 1209, 1213, 1387, 951, 475]\n",
      "304 [1204, 1884, 750, 3578, 3275, 3451, 44555, 3468, 908, 1278, 27773, 1266, 3508, 89745, 44195, 475, 5952, 1617, 1235, 904]\n",
      "305 [1208, 2599, 1719, 866, 1204, 3114, 922, 246, 1248, 1, 111, 1394, 110, 2019, 2025, 1148, 2580, 78499, 955, 3508]\n",
      "306 [1204, 2019, 1945, 1213, 44555, 307, 3836, 5952, 1242, 81834, 933, 6711, 1245, 48516, 2580, 246, 1222, 1041, 1207, 1215]\n",
      "307 [4973, 750, 1200, 1653, 1208, 1233, 1245, 1199, 1276, 68157, 139385, 3681, 1178, 1223, 1945, 1104, 3090, 4027, 1148, 57669]\n",
      "308 [1245, 51255, 7371, 56782, 475, 81834, 1300, 4896, 6350, 31364, 1204, 922, 59315, 152081, 2731, 1372, 90524, 45720, 1242, 1945]\n",
      "309 [750, 3037, 1136, 3275, 1223, 56782, 69481, 1288, 6711, 1235, 7361, 3671, 1197, 457, 1199, 4642, 89745, 5618, 6016, 3468]\n",
      "310 [3037, 1245, 56367, 1704, 2360, 3949, 922, 318, 1673, 177593, 1276, 34405, 741, 7371, 1250, 903, 2788, 457, 1215, 1939]\n",
      "311 [47, 1193, 1225, 1242, 1172, 1198, 3037, 6711, 1221, 3468, 593, 1248, 720, 912, 1276, 69481, 1261, 6874, 318, 1945]\n",
      "312 [3996, 296, 1276, 4973, 56782, 1221, 720, 1080, 2502, 44555, 318, 3328, 1203, 2959, 48516, 4226, 2858, 923, 1213, 68157]\n",
      "313 [2324, 2019, 527, 1104, 162, 475, 778, 1193, 922, 898, 3066, 2583, 2951, 27611, 1178, 1201, 1248, 60069, 529, 48780]\n",
      "314 [1204, 908, 904, 1258, 750, 1276, 608, 7147, 1246, 2329, 1196, 1104, 1233, 1208, 2396, 1084, 858, 1247, 2360, 2160]\n",
      "315 [593, 720, 908, 1203, 1196, 318, 904, 527, 6016, 1223, 2288, 2329, 1212, 2324, 3468, 3147, 3451, 1198, 1210, 356]\n",
      "316 [1204, 720, 296, 318, 527, 3275, 4973, 3451, 1208, 1196, 356, 3037, 177593, 1197, 923, 50, 2329, 1207, 1221, 912]\n",
      "317 [527, 1204, 912, 916, 1104, 902, 1261, 1266, 1242, 44191, 1653, 924, 954, 741, 44195, 908, 1225, 2067, 3060, 1197]\n",
      "318 [720, 1276, 3451, 246, 1204, 1261, 3037, 3468, 56782, 1207, 92259, 58, 1387, 3429, 2160, 1233, 2788, 1041, 2239, 2804]\n",
      "319 [1204, 904, 260, 3275, 1291, 7153, 750, 930, 1148, 933, 48516, 1235, 908, 2329, 1276, 1225, 3435, 177593, 134130, 56782]\n",
      "320 [750, 1204, 56782, 1193, 858, 1261, 296, 4011, 741, 1237, 2160, 50, 1221, 951, 318, 6711, 48516, 1245, 720, 2329]\n",
      "321 [1200, 3435, 110, 720, 1266, 1276, 1242, 1204, 1258, 2580, 3468, 4995, 1215, 142488, 56782, 3200, 38061, 1408, 3275, 1235]\n",
      "322 [904, 6016, 475, 57669, 1213, 457, 2360, 1282, 800, 104879, 3681, 51255, 909, 5992, 593, 68954, 1446, 899, 1204, 3435]\n",
      "323 [3275, 750, 57669, 912, 930, 56782, 3451, 923, 914, 1204, 1212, 2324, 177593, 1225, 720, 1276, 3681, 608, 3503, 1274]\n",
      "324 [296, 2959, 3451, 56782, 4993, 4642, 2329, 750, 1193, 6016, 7153, 44555, 1225, 6807, 318, 7361, 3435, 1080, 1248, 2288]\n",
      "325 [750, 912, 50, 1617, 1221, 1204, 7153, 527, 1283, 1148, 1214, 933, 608, 4878, 2571, 1921, 1079, 3275, 778, 2019]\n",
      "326 [1204, 56782, 177593, 3468, 1203, 2160, 34405, 3681, 441, 1235, 908, 3037, 3275, 1251, 923, 1041, 115713, 912, 922, 1212]\n",
      "327 [1207, 908, 56782, 1242, 3037, 1210, 2324, 800, 3275, 720, 1276, 71899, 1204, 1282, 4973, 922, 527, 27773, 1203, 109487]\n",
      "328 [2160, 1204, 109487, 593, 3037, 2529, 73854, 2804, 57669, 6711, 1594, 89745, 3000, 106489, 2360, 3468, 903, 54881, 76093, 112552]\n",
      "329 [81834, 1208, 3037, 1242, 1225, 246, 951, 1204, 55118, 902, 595, 933, 1641, 912, 3147, 2565, 898, 908, 307, 76093]\n",
      "330 [307, 44555, 912, 1201, 3451, 2019, 720, 46578, 3508, 1267, 5618, 3730, 7022, 898, 1230, 1945, 1617, 6331, 933, 5992]\n",
      "331 [1198, 1276, 1221, 750, 923, 1204, 1201, 48516, 2858, 4642, 1248, 1208, 1230, 1967, 2329, 1089, 541, 89904, 1304, 475]\n",
      "332 [908, 720, 1276, 3147, 2580, 898, 924, 260, 1262, 858, 1387, 1207, 1178, 1086, 6016, 1259, 1235, 44555, 1250, 1193]\n",
      "333 [110, 318, 1203, 1617, 2959, 2324, 899, 1248, 1408, 1225, 4995, 6016, 1204, 104879, 44555, 2580, 1270, 58, 527, 3147]\n",
      "334 [1204, 527, 541, 1089, 1148, 741, 898, 50, 2329, 2324, 1207, 5747, 38061, 48516, 246, 1276, 3275, 2288, 2019, 56782]\n",
      "335 [1204, 527, 904, 778, 1235, 2858, 2019, 1704, 1197, 1136, 1193, 1080, 858, 1089, 1219, 1198, 44555, 3451, 4995, 2324]\n",
      "336 [2788, 1204, 8368, 56782, 2067, 3275, 3451, 1276, 904, 177593, 8961, 3037, 741, 1201, 720, 51255, 1261, 1089, 1215, 899]\n",
      "337 [356, 457, 2580, 3147, 720, 904, 908, 930, 913, 1207, 1261, 1276, 7361, 3681, 1245, 57669, 142488, 177593, 4848, 2160]\n",
      "338 [1198, 904, 3468, 1704, 57669, 4226, 1213, 1204, 1261, 4973, 1200, 3275, 6942, 923, 47, 6807, 1258, 1172, 1028, 720]\n",
      "339 [5902, 177593, 2329, 1276, 3468, 1148, 923, 1719, 2150, 1250, 2692, 1387, 1089, 1204, 1208, 4011, 50, 3508, 778, 1248]\n",
      "340 [1198, 7361, 1204, 2329, 750, 38061, 56782, 2028, 1215, 48516, 7371, 50, 1235, 1261, 4995, 5952, 6711, 2019, 3468, 593]\n",
      "341 [1204, 1235, 1136, 318, 3037, 898, 1225, 2019, 3836, 1197, 1203, 750, 1221, 48516, 1266, 177593, 912, 1274, 1242, 720]\n",
      "342 [1204, 858, 318, 1196, 1089, 260, 4027, 56782, 177593, 778, 2329, 1276, 1215, 4993, 356, 1210, 2571, 110, 2761, 1221]\n",
      "343 [1276, 2324, 750, 1219, 57669, 1193, 2028, 904, 34405, 69481, 1258, 3468, 44555, 1248, 1215, 1223, 2231, 1206, 56782, 1673]\n",
      "344 [1278, 1223, 1246, 1276, 899, 1957, 3037, 71899, 48516, 1282, 7815, 1267, 1204, 11, 922, 7153, 3451, 1213, 57669, 4642]\n",
      "345 [318, 2571, 858, 1204, 2959, 593, 50, 1261, 527, 58559, 57669, 750, 296, 1208, 2160, 904, 922, 910, 6016, 69481]\n",
      "346 [1250, 1203, 3451, 56782, 1953, 3037, 1244, 3681, 741, 1276, 1204, 3468, 71899, 58, 898, 2324, 104879, 148626, 1228, 5690]\n",
      "347 [1204, 858, 56782, 2329, 593, 1198, 2959, 1193, 908, 69481, 1197, 750, 318, 912, 1213, 1261, 1225, 923, 1252, 3468]\n",
      "348 [1197, 58, 904, 1203, 1193, 1201, 1276, 7361, 27773, 3275, 56782, 1248, 3037, 1204, 720, 3468, 3451, 177593, 1148, 475]\n",
      "349 [1242, 1197, 3037, 318, 2959, 4973, 1208, 750, 6711, 1235, 1204, 5747, 741, 608, 293, 908, 3451, 5952, 1266, 50]\n",
      "350 [1204, 750, 318, 58559, 3037, 1219, 2959, 1079, 44555, 1945, 56782, 3996, 2160, 1276, 741, 1213, 3275, 51255, 904, 923]\n",
      "351 [2329, 1235, 177593, 1213, 2019, 904, 1276, 3275, 3037, 1387, 1221, 1198, 930, 1261, 1204, 912, 914, 3429, 1089, 1207]\n",
      "352 [858, 750, 56782, 741, 1204, 6016, 57669, 4995, 3451, 1250, 912, 904, 3681, 3275, 1274, 1249, 1060, 2502, 923, 55276]\n",
      "353 [1204, 3468, 50, 1203, 44555, 858, 4973, 1248, 2329, 750, 904, 4226, 2019, 1252, 2959, 741, 1213, 916, 898, 48516]\n",
      "354 [3468, 1246, 1261, 912, 778, 3451, 32587, 2580, 44195, 2288, 2019, 1252, 112852, 2231, 933, 1276, 44555, 7156, 246, 177593]\n",
      "355 [2329, 318, 177593, 930, 1276, 1204, 1225, 4993, 34405, 1704, 1261, 1089, 1235, 296, 912, 2160, 741, 1210, 904, 44191]\n",
      "356 [1204, 898, 3328, 3037, 1237, 2360, 246, 7156, 2324, 6460, 1276, 3451, 1945, 92259, 1357, 48780, 1233, 904, 2396, 899]\n",
      "357 [750, 1204, 904, 44555, 4226, 912, 720, 1248, 1201, 908, 1203, 56782, 1193, 3037, 1283, 2019, 6016, 2788, 3996, 1617]\n",
      "358 [1276, 318, 3451, 356, 904, 2542, 1204, 3037, 1617, 1242, 908, 1387, 1263, 64839, 7099, 260, 1258, 1104, 2160, 1261]\n",
      "359 [3468, 1233, 720, 1242, 1204, 3037, 177593, 50, 1617, 912, 1258, 318, 904, 2997, 92259, 2580, 4226, 908, 898, 2959]\n",
      "360 [260, 2542, 1210, 904, 912, 3037, 908, 318, 1387, 1196, 926, 3578, 3114, 58, 1704, 750, 1204, 475, 457, 1203]\n",
      "361 [34405, 6711, 720, 1276, 56782, 2324, 3468, 246, 951, 899, 2202, 6016, 1284, 2019, 26131, 1204, 926, 44555, 1197, 50]\n",
      "362 [1276, 1198, 1204, 912, 2324, 3681, 6711, 1136, 78499, 2858, 904, 6016, 475, 2019, 720, 1104, 1245, 177593, 69481, 1197]\n",
      "363 [1204, 720, 593, 933, 930, 1387, 1248, 3468, 3037, 1266, 1203, 1225, 106642, 3275, 6711, 858, 1197, 2288, 1357, 1921]\n",
      "364 [1204, 3435, 318, 3037, 3468, 1198, 2028, 1203, 1276, 6711, 720, 1197, 593, 741, 50, 6016, 56782, 1221, 356, 750]\n",
      "365 [2791, 1276, 1282, 1204, 1212, 1387, 1225, 2067, 1203, 3037, 44199, 2100, 2580, 178129, 1673, 1357, 3030, 55276, 26059, 92259]\n",
      "366 [541, 2324, 1221, 750, 1136, 2761, 56782, 2160, 778, 318, 1276, 1206, 1204, 1215, 1203, 1274, 55820, 904, 1193, 4011]\n",
      "367 [364, 3996, 2019, 2858, 1204, 1288, 48516, 109487, 56782, 8014, 1215, 1276, 33166, 3671, 16, 1103, 45728, 588, 1193, 4973]\n",
      "368 [318, 1204, 2329, 720, 750, 2959, 1206, 7361, 1148, 4226, 1079, 3468, 3275, 177593, 246, 1719, 475, 2324, 741, 2019]\n",
      "369 [318, 1261, 177593, 741, 1245, 1204, 142488, 57669, 110, 56782, 1242, 3451, 908, 3030, 527, 1270, 2804, 1230, 2329, 720]\n",
      "370 [2324, 1204, 720, 3468, 1252, 1276, 115713, 56782, 1215, 356, 109487, 1266, 1242, 1207, 1945, 1103, 5971, 1233, 1245, 1222]\n",
      "371 [1222, 2028, 2329, 2959, 318, 1704, 720, 912, 930, 2019, 2324, 364, 4306, 858, 1193, 1252, 1261, 1276, 1245, 3275]\n",
      "372 [177593, 7153, 2542, 2329, 8636, 3468, 3275, 4011, 720, 1235, 902, 1704, 2019, 6791, 750, 58559, 1148, 2028, 4973, 741]\n",
      "373 [1193, 1208, 6874, 6350, 2997, 1201, 27773, 750, 2788, 1206, 1248, 56782, 5618, 1204, 1197, 1242, 4226, 904, 46976, 2324]\n",
      "374 [912, 750, 56782, 1204, 4993, 3468, 858, 1221, 1193, 1276, 2019, 1233, 608, 930, 44555, 3037, 2959, 50, 6016, 2858]\n",
      "375 [1136, 1203, 1221, 750, 1276, 1204, 110, 2858, 1080, 475, 2019, 933, 177593, 720, 1235, 2788, 4011, 1200, 1206, 5902]\n",
      "376 [1276, 441, 930, 2329, 933, 2360, 1704, 1207, 1204, 318, 1261, 69481, 3037, 4642, 1248, 1244, 1246, 56782, 1242, 922]\n",
      "377 [1221, 912, 260, 3114, 7153, 923, 1210, 1270, 1213, 1704, 55276, 3275, 4993, 3508, 46578, 475, 6857, 441, 48516, 1198]\n",
      "378 [56782, 1204, 3037, 6711, 1212, 1250, 750, 2788, 1235, 909, 57669, 1210, 1284, 2019, 2324, 908, 951, 2160, 1276, 2580]\n",
      "379 [1276, 1242, 1204, 177593, 3468, 34405, 912, 1221, 1945, 922, 919, 2324, 44555, 1210, 933, 3451, 1233, 246, 2329, 1213]\n",
      "380 [1250, 2324, 2202, 778, 1235, 215, 1274, 307, 1288, 58998, 1243, 7361, 1237, 4995, 5954, 3108, 2231, 2019, 2924, 898]\n",
      "381 [1204, 1245, 56782, 441, 2324, 4011, 912, 1233, 741, 1276, 109487, 898, 922, 1238, 4034, 3037, 177593, 1261, 750, 1219]\n",
      "382 [1387, 110, 904, 2858, 2580, 1222, 908, 56782, 1089, 106782, 2324, 122918, 720, 54997, 5349, 1248, 2542, 6874, 3996, 898]\n",
      "383 [720, 1276, 2580, 44555, 593, 1245, 912, 318, 2571, 898, 3037, 2019, 1248, 56782, 112852, 1223, 32587, 1261, 5992, 1213]\n",
      "384 [750, 260, 318, 904, 858, 908, 50, 527, 2019, 1266, 1210, 912, 1196, 1235, 1198, 1148, 2542, 1136, 3836, 2324]\n",
      "385 [1089, 2329, 1276, 69481, 1248, 4973, 2019, 3435, 527, 1148, 922, 3836, 2571, 3275, 2360, 6711, 2858, 2692, 904, 2028]\n",
      "386 [1204, 750, 34405, 2329, 3275, 56782, 4226, 1197, 2858, 1199, 475, 3996, 2788, 904, 899, 1219, 3451, 7371, 177593, 912]\n",
      "387 [720, 7361, 7153, 3037, 177593, 64614, 69481, 1358, 1225, 58559, 475, 3451, 916, 3468, 3435, 497, 527, 71899, 2788, 48738]\n",
      "388 [922, 1233, 246, 2580, 2571, 1204, 2324, 1208, 6350, 527, 1193, 1207, 318, 1222, 953, 1242, 52435, 69481, 1089, 930]\n",
      "389 [38061, 1204, 2959, 2858, 1235, 1089, 933, 1884, 2324, 858, 177593, 750, 2571, 4226, 2396, 4034, 246, 1148, 318, 741]\n",
      "390 [318, 50, 356, 1242, 1204, 1276, 1207, 3037, 5747, 56782, 3275, 1089, 6440, 1234, 899, 1148, 908, 55820, 1235, 904]\n",
      "391 [3275, 5618, 56782, 5902, 109487, 58559, 162, 1250, 16, 27563, 55276, 1276, 3328, 68157, 46976, 5010, 3508, 741, 7153, 2804]\n",
      "392 [858, 1204, 527, 1248, 2019, 4973, 296, 608, 356, 4993, 2329, 56782, 1136, 3435, 1265, 750, 318, 1213, 1201, 2571]\n",
      "393 [3037, 1204, 8368, 48516, 924, 1370, 81834, 2423, 780, 1356, 4896, 26131, 1136, 5994, 8961, 2542, 28, 1387, 69844, 6711]\n",
      "394 [912, 142488, 1266, 318, 1262, 2329, 1196, 1204, 1258, 1172, 2019, 930, 68954, 44555, 2788, 904, 858, 1261, 750, 2067]\n",
      "395 [1212, 56782, 177593, 720, 916, 475, 1225, 7361, 1387, 2761, 1283, 1673, 3429, 2791, 3083, 3037, 3424, 2324, 1258, 176]\n",
      "396 [1198, 858, 1213, 1193, 2019, 1204, 3037, 2858, 5995, 1089, 1221, 296, 1270, 750, 527, 7153, 3468, 899, 1197, 1394]\n",
      "397 [1276, 902, 3037, 356, 2324, 3468, 912, 318, 58, 898, 1204, 56782, 3083, 223, 720, 6331, 1261, 741, 2329, 1207]\n",
      "398 [1204, 356, 1172, 260, 318, 720, 296, 50, 3037, 904, 1208, 1258, 1242, 46976, 3451, 1263, 4226, 4642, 1196, 2019]\n",
      "399 [1204, 1266, 914, 106642, 7371, 904, 1387, 89745, 105504, 56782, 3037, 720, 5618, 1242, 908, 1197, 1199, 3468, 1222, 3451]\n",
      "400 [1204, 527, 4226, 904, 1261, 4973, 177593, 1208, 720, 3451, 1207, 908, 898, 246, 741, 2804, 1201, 3275, 2329, 1148]\n",
      "401 [904, 110, 3578, 1248, 1221, 1208, 912, 1945, 34405, 2329, 134130, 908, 3275, 919, 58, 58559, 1276, 1246, 246, 48516]\n",
      "402 [57669, 2160, 2324, 1266, 356, 4011, 2959, 1204, 3578, 3836, 318, 3681, 1222, 1203, 1198, 904, 1215, 3508, 1210, 1291]\n",
      "403 [56782, 608, 6016, 5952, 4993, 1104, 4973, 6711, 2019, 4226, 1204, 7153, 1215, 1225, 593, 904, 1201, 912, 475, 44555]\n",
      "404 [1204, 720, 898, 1210, 1221, 3275, 2324, 1261, 1193, 1196, 858, 1235, 750, 50, 1617, 1089, 2160, 1203, 1233, 904]\n",
      "405 [1276, 1246, 2160, 56782, 2324, 1193, 720, 3328, 44555, 3451, 2858, 46578, 246, 4973, 1207, 2019, 27773, 1242, 3681, 778]\n",
      "406 [296, 858, 6711, 4973, 1204, 1221, 1223, 48516, 318, 750, 1198, 2329, 1199, 3275, 1215, 4011, 50, 1036, 3468, 3451]\n",
      "407 [1204, 56782, 1225, 4642, 750, 296, 2019, 27773, 318, 3037, 933, 1235, 1270, 2324, 1242, 1288, 1199, 608, 2329, 1248]\n",
      "408 [246, 922, 177593, 1276, 541, 904, 1261, 912, 38061, 1223, 778, 1089, 1221, 3508, 3681, 1240, 56367, 1288, 2231, 3275]\n",
      "409 [750, 1204, 1089, 2959, 527, 1199, 2329, 48516, 904, 930, 1201, 924, 7361, 2019, 1208, 56782, 3275, 7153, 4993, 50]\n",
      "410 [1203, 3037, 1258, 1200, 2231, 1089, 57669, 1408, 7371, 1282, 2360, 2959, 293, 4993, 69481, 84152, 1204, 34405, 1217, 1219]\n",
      "411 [720, 4995, 1204, 898, 2028, 914, 1266, 1276, 3468, 2324, 2329, 2580, 7361, 899, 1148, 112552, 1641, 1225, 177593, 1237]\n",
      "412 [3275, 1201, 8368, 2959, 441, 1446, 1387, 4973, 4226, 3451, 296, 58, 177593, 27773, 1204, 5500, 912, 1203, 44191, 1949]\n",
      "413 [110, 1073, 1197, 1258, 2580, 904, 1653, 134130, 142488, 1242, 69481, 916, 1178, 177593, 1248, 930, 47, 1278, 8798, 4973]\n",
      "414 [3022, 3435, 3451, 1248, 29, 861, 2324, 26258, 3379, 4441, 1287, 1230, 2737, 6001, 112175, 3503, 1041, 1244, 2973, 111362]\n",
      "415 [1204, 4973, 912, 527, 1225, 1208, 1235, 902, 1207, 1210, 3275, 2324, 1215, 7153, 1387, 589, 475, 3037, 1212, 1246]\n",
      "416 [3037, 2804, 2686, 3328, 3468, 923, 1193, 1274, 541, 1204, 1104, 475, 1276, 1208, 44555, 1221, 3949, 3275, 1237, 908]\n",
      "417 [750, 1242, 1204, 904, 56782, 3681, 1200, 1266, 1104, 1274, 933, 741, 7438, 589, 1215, 177593, 78499, 1280, 3451, 3037]\n",
      "418 [1201, 364, 2858, 899, 4995, 2467, 1213, 2329, 741, 750, 6016, 177593, 3435, 1204, 3451, 1103, 3740, 2028, 1249, 1921]\n",
      "419 [1204, 908, 1172, 2019, 1235, 1207, 1230, 3468, 1203, 3037, 898, 1299, 6016, 2788, 2324, 2580, 2360, 6539, 48516, 44555]\n",
      "420 [2324, 1225, 177593, 58559, 1235, 1221, 6016, 1204, 933, 1242, 720, 3451, 3468, 1222, 912, 56782, 593, 3424, 6711, 1248]\n",
      "421 [1204, 1276, 933, 3451, 356, 293, 1252, 5618, 79132, 930, 2329, 177593, 1215, 3275, 1261, 858, 1080, 2067, 1248, 3435]\n",
      "422 [1089, 1204, 3275, 2360, 1215, 44555, 142488, 1246, 3578, 4973, 1719, 527, 110, 48516, 475, 1784, 1222, 246, 2019, 1203]\n",
      "423 [4226, 50, 2959, 1276, 930, 720, 3037, 1136, 1204, 4642, 56782, 527, 2788, 56367, 1248, 2324, 1242, 5618, 1193, 904]\n",
      "424 [177593, 1225, 7361, 2324, 898, 3037, 914, 1204, 4011, 3429, 2194, 1233, 176, 3503, 5690, 56782, 741, 922, 7371, 1299]\n",
      "425 [177593, 922, 904, 1261, 1225, 933, 1104, 3681, 1204, 3030, 902, 1258, 3468, 7371, 1276, 912, 2360, 930, 1203, 34405]\n",
      "426 [919, 922, 3681, 3037, 57669, 1223, 2329, 898, 1204, 52435, 76093, 27773, 1276, 1242, 73023, 912, 2239, 48516, 177593, 899]\n",
      "427 [260, 1219, 593, 1196, 7153, 2571, 2959, 6016, 750, 318, 58559, 3508, 741, 56782, 3468, 1148, 1220, 1204, 3114, 1193]\n",
      "428 [50, 904, 3275, 750, 3451, 4011, 2324, 1193, 74458, 56782, 1732, 2788, 527, 1204, 4226, 68157, 3836, 1248, 912, 293]\n",
      "429 [2324, 318, 2160, 2959, 1221, 1261, 57669, 1204, 858, 56782, 356, 750, 527, 933, 177593, 48516, 1198, 1276, 6016, 1245]\n",
      "430 [4226, 750, 2959, 4011, 1288, 1204, 4993, 1206, 912, 246, 1193, 7438, 1213, 1221, 58559, 1276, 2160, 2761, 56782, 2329]\n",
      "431 [1193, 56782, 1276, 778, 858, 922, 527, 1204, 1261, 318, 1089, 1208, 1207, 912, 1213, 1104, 27773, 720, 2019, 2571]\n",
      "432 [2324, 104879, 930, 246, 1276, 933, 44555, 898, 3996, 6350, 1233, 902, 2580, 922, 1207, 85342, 3468, 1242, 1061, 34405]\n",
      "433 [904, 1204, 3468, 3275, 2788, 720, 475, 1208, 750, 930, 3451, 1258, 1212, 1104, 2324, 898, 177593, 3328, 1237, 3083]\n",
      "434 [50, 1201, 1247, 3508, 4973, 1204, 56782, 29, 7099, 78499, 1967, 8950, 4848, 2019, 3451, 1207, 5690, 1266, 1199, 1288]\n",
      "435 [56782, 1089, 260, 922, 1204, 3037, 1252, 4993, 593, 1235, 7153, 5952, 1261, 1258, 930, 1210, 110, 91077, 4642, 3275]\n",
      "436 [904, 908, 1225, 1204, 1242, 1276, 2959, 750, 44555, 3037, 2019, 246, 58559, 4226, 27773, 260, 912, 2324, 1172, 51255]\n",
      "437 [2329, 1201, 4011, 1193, 4973, 750, 3451, 1207, 1261, 1243, 7153, 1089, 1199, 593, 2959, 1248, 293, 2788, 58559, 48516]\n",
      "438 [1204, 1197, 1278, 76093, 720, 2019, 79132, 3037, 1178, 1266, 3022, 904, 750, 858, 3451, 91529, 1086, 1921, 1245, 2396]\n",
      "439 [2329, 1221, 1276, 1203, 4973, 593, 1204, 1215, 1213, 904, 858, 6016, 3468, 1270, 899, 27773, 720, 50, 919, 1104]\n",
      "440 [593, 1204, 4973, 318, 16, 5952, 50, 1213, 2329, 4306, 1252, 1276, 720, 2791, 1242, 58559, 2959, 922, 177593, 1221]\n",
      "441 [1213, 2329, 48516, 176, 475, 1225, 293, 1246, 33794, 56367, 4973, 1221, 1245, 55118, 177593, 1215, 4848, 56782, 741, 3037]\n",
      "442 [3037, 1225, 56782, 1193, 1207, 933, 318, 741, 2959, 110, 1204, 3996, 1617, 720, 115713, 47, 1276, 1233, 2160, 3451]\n",
      "443 [1204, 3037, 2019, 44555, 912, 909, 908, 3468, 1267, 48516, 2360, 1248, 1213, 3147, 527, 1089, 1233, 1258, 923, 750]\n",
      "444 [56782, 922, 1242, 912, 3147, 260, 2329, 1204, 475, 1276, 904, 3435, 1208, 54881, 3681, 1258, 1246, 44555, 1248, 1235]\n",
      "445 [56782, 1204, 912, 3424, 858, 1221, 56367, 3037, 3503, 1288, 2019, 923, 2788, 2858, 57669, 1673, 44555, 29, 1262, 46578]\n",
      "446 [318, 1266, 293, 1204, 1235, 1261, 162, 1196, 1089, 3037, 58559, 1213, 5952, 922, 3451, 3275, 750, 1246, 778, 1222]\n",
      "447 [4993, 858, 1204, 912, 4226, 5952, 4306, 56782, 3451, 922, 1197, 50, 134130, 7153, 3030, 904, 69481, 741, 2231, 3681]\n",
      "448 [7361, 527, 1197, 750, 318, 1293, 2028, 588, 2329, 158966, 4995, 1272, 148626, 741, 1203, 913, 1231, 56782, 916, 903]\n",
      "449 [1204, 904, 912, 1235, 1261, 3037, 296, 908, 1197, 858, 2067, 923, 1221, 2202, 1201, 2019, 1148, 177593, 750, 1276]\n",
      "450 [50, 318, 912, 2019, 858, 1221, 1204, 1213, 750, 933, 899, 1215, 2959, 1201, 1411, 1207, 720, 1203, 1172, 4973]\n",
      "451 [56782, 1246, 2959, 1242, 4973, 541, 1204, 1276, 912, 1208, 57669, 475, 778, 1197, 1213, 2329, 2571, 2324, 364, 922]\n",
      "452 [50, 223, 593, 923, 1278, 1282, 1408, 2580, 2761, 2959, 318, 6874, 58559, 91529, 106782, 720, 32, 58, 800, 898]\n",
      "453 [1204, 7669, 1246, 177593, 1212, 2019, 3836, 3468, 54881, 44555, 5500, 36, 904, 1276, 27397, 1148, 57504, 1387, 1955, 168252]\n",
      "454 [48516, 58559, 318, 1204, 1276, 750, 56782, 1387, 260, 3037, 2542, 7371, 2959, 356, 112552, 1225, 2329, 2580, 3468, 527]\n",
      "455 [1204, 1276, 1089, 2959, 1704, 912, 1213, 1203, 750, 57669, 48516, 2360, 1148, 177593, 608, 1246, 904, 3275, 2858, 69481]\n",
      "456 [1204, 318, 3503, 2019, 3468, 57669, 177593, 2959, 1276, 56782, 1245, 720, 750, 1261, 1136, 2571, 1223, 1212, 1148, 2329]\n",
      "457 [318, 1235, 720, 898, 2324, 1248, 1204, 750, 1196, 527, 2067, 904, 3503, 923, 1221, 1276, 1104, 3949, 1261, 177593]\n",
      "458 [1204, 1283, 720, 7361, 1276, 1288, 2019, 3468, 69481, 38061, 1215, 6711, 1148, 898, 246, 1198, 919, 912, 2324, 1248]\n",
      "459 [593, 1197, 904, 912, 1258, 2019, 318, 50, 44555, 1283, 2959, 914, 1233, 4973, 720, 3468, 1215, 3275, 1207, 54997]\n",
      "460 [750, 3037, 56782, 720, 7361, 4226, 1204, 741, 527, 1206, 1242, 1225, 2324, 1233, 1089, 908, 1221, 50, 3275, 2788]\n",
      "461 [1276, 1089, 3421, 3083, 1245, 951, 8368, 1252, 168252, 720, 1203, 2231, 2019, 914, 3451, 1261, 4855, 177593, 899, 1204]\n",
      "462 [1960, 1212, 177593, 2160, 48738, 7323, 81788, 2580, 86781, 6254, 194, 56782, 2594, 2324, 333, 246, 6016, 5008, 6791, 933]\n",
      "463 [1204, 56782, 3037, 4993, 750, 1250, 57669, 2959, 741, 457, 930, 1276, 3275, 6016, 7371, 293, 912, 904, 951, 593]\n",
      "464 [1198, 1276, 904, 1204, 3275, 720, 2542, 912, 778, 1248, 27611, 2324, 1200, 2918, 162, 475, 923, 4973, 150, 6]\n",
      "465 [1225, 1258, 720, 1204, 50, 1242, 2959, 3435, 4973, 2329, 2858, 1172, 3275, 56782, 246, 296, 741, 177593, 1213, 1387]\n",
      "466 [34405, 930, 3037, 6711, 104879, 44555, 71899, 56782, 1276, 3200, 3703, 2726, 2324, 177593, 55118, 3224, 2565, 26662, 98491, 296]\n",
      "467 [3037, 318, 1387, 1204, 1276, 44555, 912, 1193, 1250, 898, 919, 720, 1213, 3451, 1089, 933, 3503, 1217, 1945, 750]\n",
      "468 [1235, 1261, 912, 1225, 720, 908, 4995, 58559, 68954, 933, 1258, 1242, 1263, 56782, 1208, 1172, 3147, 3030, 1266, 918]\n",
      "469 [4226, 720, 56782, 3451, 3275, 4993, 44555, 4011, 7153, 5618, 162, 2761, 475, 1283, 28, 4878, 2019, 2360, 3836, 27773]\n",
      "470 [1204, 1203, 858, 750, 3037, 904, 2160, 2571, 720, 3468, 177593, 1276, 1196, 109487, 2959, 1242, 902, 1291, 1215, 3147]\n",
      "471 [1089, 1204, 318, 1248, 922, 1223, 933, 177593, 741, 898, 3037, 1276, 2329, 912, 858, 1945, 6350, 1704, 1203, 58]\n",
      "472 [3468, 750, 3030, 1945, 1204, 1248, 2580, 1203, 2019, 1225, 1215, 1237, 3508, 1228, 1201, 44555, 1213, 44199, 1246, 1258]\n",
      "473 [1221, 1204, 858, 1193, 1213, 912, 1235, 1237, 1104, 922, 1261, 177593, 750, 608, 3275, 1704, 1248, 1274, 58559, 475]\n",
      "474 [32587, 3347, 3507, 2542, 27773, 55820, 76093, 56782, 38061, 1261, 353, 69481, 56367, 68358, 55276, 57669, 8132, 176, 78836, 441]\n",
      "475 [441, 457, 608, 919, 2329, 74458, 720, 914, 58, 232, 912, 930, 1225, 2019, 3967, 750, 922, 1207, 1276, 1234]\n",
      "476 [3451, 1193, 741, 1196, 1204, 912, 2329, 720, 50, 1276, 750, 1261, 3275, 1197, 293, 1213, 56782, 1201, 1272, 3468]\n",
      "477 [1245, 1732, 2329, 55820, 68157, 1215, 110, 56782, 912, 1200, 720, 1206, 3681, 50, 1261, 2360, 3451, 111, 46578, 1221]\n",
      "478 [1204, 1213, 1089, 1242, 50, 750, 2329, 318, 933, 951, 2019, 858, 1248, 4973, 1210, 1221, 1274, 1276, 953, 58559]\n",
      "479 [750, 1258, 3275, 1200, 1221, 7361, 608, 2329, 908, 527, 4226, 1283, 1089, 1208, 720, 134130, 1387, 1215, 923, 914]\n",
      "480 [57669, 750, 908, 1104, 177593, 1204, 92535, 5500, 58559, 55820, 1201, 1175, 3083, 904, 6350, 68157, 64839, 148626, 65642, 3435]\n",
      "481 [750, 318, 1387, 527, 110, 1221, 1704, 1682, 58559, 58, 57669, 2019, 2502, 3468, 1213, 1104, 858, 1276, 2160, 44555]\n",
      "482 [2288, 1193, 110, 2324, 58559, 34405, 3578, 593, 77455, 1089, 296, 1704, 78499, 318, 3435, 1261, 3727, 33794, 2973, 858]\n",
      "483 [1204, 56782, 908, 750, 593, 1208, 923, 2360, 541, 904, 1089, 1954, 1258, 162, 6440, 1245, 3435, 1304, 3949, 55820]\n",
      "484 [1204, 3451, 56782, 337, 3681, 1250, 3037, 914, 4642, 8368, 1270, 6016, 8014, 912, 1201, 57669, 1035, 58, 1225, 1261]\n",
      "485 [1196, 1204, 318, 142488, 858, 1266, 1261, 16, 1242, 1203, 1089, 912, 2791, 922, 5014, 69481, 1291, 1270, 908, 1276]\n",
      "486 [527, 750, 858, 1276, 1204, 1248, 720, 1193, 1203, 50, 3451, 74458, 1215, 1196, 3681, 1104, 1617, 541, 3037, 6016]\n",
      "487 [296, 2324, 1221, 1204, 1248, 44555, 50, 858, 1617, 4226, 7371, 5618, 1276, 1235, 1213, 903, 720, 912, 1203, 3468]\n",
      "488 [296, 1201, 50, 260, 51255, 2858, 908, 2067, 2959, 3435, 2329, 1204, 741, 2542, 4011, 2571, 56782, 2288, 2019, 112175]\n",
      "489 [4642, 1266, 858, 1215, 1196, 720, 3508, 1954, 50, 1242, 3328, 318, 64614, 1208, 6283, 121372, 6807, 77455, 7090, 2398]\n",
      "490 [720, 50, 56782, 1204, 750, 318, 3435, 2019, 3468, 68157, 1213, 2324, 1221, 2329, 1222, 4011, 527, 541, 1248, 2028]\n",
      "491 [3037, 1276, 44555, 1089, 1204, 3916, 162, 3275, 1248, 1387, 2360, 6016, 904, 58, 1198, 912, 1673, 2019, 296, 6460]\n",
      "492 [1219, 898, 1193, 3275, 1387, 1204, 3468, 58, 246, 177593, 318, 1212, 3451, 1276, 457, 48738, 3037, 26133, 3683, 6711]\n",
      "493 [1193, 296, 3000, 1204, 2804, 475, 50, 741, 58, 1246, 2288, 3681, 56782, 1266, 318, 3037, 912, 44191, 7438, 3451]\n",
      "494 [1266, 912, 2997, 4226, 364, 4306, 1276, 922, 56782, 2324, 4995, 1242, 2329, 904, 1209, 1357, 720, 1222, 356, 5995]\n",
      "495 [260, 904, 2583, 2324, 2194, 4878, 58, 2329, 913, 1222, 71899, 1221, 720, 3037, 1921, 750, 909, 2288, 6666, 91077]\n",
      "496 [296, 1204, 1198, 2959, 318, 1213, 608, 750, 2329, 1201, 1089, 593, 1104, 6016, 3147, 57669, 44555, 6460, 4973, 741]\n",
      "497 [898, 541, 4034, 1207, 5902, 1237, 3503, 1250, 104879, 951, 2160, 56782, 2565, 930, 1246, 6711, 3429, 1276, 3703, 903]\n",
      "498 [56782, 1204, 4226, 750, 3037, 134130, 908, 3275, 541, 1197, 1221, 48516, 1276, 4848, 1104, 4973, 1212, 33166, 177593, 1215]\n",
      "499 [741, 2959, 142488, 2571, 2324, 2329, 296, 293, 720, 3451, 1204, 1213, 1276, 318, 1089, 1193, 1148, 930, 3037, 899]\n",
      "500 [79132, 527, 1263, 3275, 2324, 3508, 923, 4011, 1214, 3037, 912, 908, 89745, 1261, 2571, 1225, 50, 111, 246, 1208]\n",
      "501 [1089, 750, 27773, 2571, 924, 1204, 48516, 1261, 1215, 6711, 1272, 56782, 111, 57669, 318, 1200, 2329, 1199, 79132, 3578]\n",
      "502 [527, 1945, 750, 1204, 1208, 741, 2571, 2959, 2288, 78499, 1197, 2324, 296, 58559, 1234, 1219, 6350, 858, 1617, 2028]\n",
      "503 [904, 1204, 1235, 1276, 1198, 2019, 750, 475, 899, 4973, 541, 109487, 3275, 170705, 1215, 1234, 1196, 922, 1949, 2542]\n",
      "504 [1225, 3468, 720, 898, 750, 58559, 908, 930, 318, 1235, 1204, 3037, 1246, 593, 177593, 1261, 1250, 3083, 912, 1207]\n",
      "505 [318, 57669, 858, 1204, 356, 1203, 56782, 4993, 1221, 919, 912, 6016, 750, 923, 7361, 1213, 6787, 177593, 1252, 475]\n",
      "506 [858, 930, 922, 1250, 912, 3037, 1204, 2028, 1198, 2858, 750, 2571, 7099, 1276, 898, 2959, 6016, 1248, 1262, 1193]\n",
      "507 [1204, 2329, 3451, 1261, 750, 2959, 1136, 56782, 933, 1653, 48516, 1215, 858, 2360, 741, 2067, 1248, 1274, 33794, 930]\n",
      "508 [933, 4011, 318, 1204, 912, 1288, 441, 4993, 56782, 778, 1235, 246, 111, 1266, 2324, 1261, 3435, 2997, 1245, 1225]\n",
      "509 [2959, 318, 1204, 1089, 4011, 50, 1242, 904, 3037, 56782, 2329, 527, 2019, 2542, 7361, 1199, 1215, 6440, 1223, 6016]\n",
      "510 [260, 589, 296, 1201, 904, 318, 2329, 1104, 2571, 741, 48516, 951, 3275, 57669, 2028, 720, 1223, 1215, 1234, 1203]\n",
      "511 [904, 593, 3275, 720, 1283, 296, 3037, 1204, 1276, 2019, 7361, 50, 858, 930, 48516, 922, 933, 2329, 1148, 6016]\n",
      "512 [4226, 1221, 904, 720, 177593, 2700, 2329, 858, 69481, 1225, 56782, 6711, 899, 1198, 1215, 1261, 7361, 1104, 4993, 1704]\n",
      "513 [741, 1276, 177593, 3503, 1204, 1207, 56782, 1222, 912, 6440, 48516, 168252, 2329, 720, 2959, 7361, 1213, 2324, 3451, 27773]\n",
      "514 [720, 1221, 527, 858, 2329, 3275, 1204, 177593, 1201, 3037, 904, 1104, 57669, 1276, 50, 912, 1208, 923, 318, 293]\n",
      "515 [1089, 1198, 2329, 2542, 2571, 720, 1263, 904, 1199, 1225, 750, 4011, 858, 1148, 1261, 3037, 1204, 1235, 933, 2858]\n",
      "516 [750, 527, 318, 908, 1203, 608, 858, 1204, 1276, 56782, 2019, 1221, 912, 720, 44555, 3468, 922, 2360, 933, 5971]\n",
      "517 [1252, 265, 52973, 36, 142488, 930, 3537, 954, 1172, 4499, 173355, 1280, 6791, 2289, 2231, 1413, 71899, 6016, 99813, 62956]\n",
      "518 [1204, 56782, 750, 4226, 5618, 2019, 3503, 858, 1242, 318, 3037, 2360, 177593, 1197, 593, 745, 2160, 260, 720, 3949]\n",
      "519 [912, 177593, 1200, 2028, 1196, 2324, 38061, 1258, 3037, 858, 1136, 904, 527, 1204, 720, 3996, 2959, 898, 50, 1266]\n",
      "520 [6711, 50, 2019, 1276, 608, 1089, 27773, 246, 922, 3508, 1242, 899, 3083, 1148, 1207, 2959, 2028, 1213, 3468, 1304]\n",
      "521 [2324, 1276, 2160, 57669, 177593, 2329, 56782, 1193, 750, 741, 1258, 1237, 1213, 3468, 1206, 5902, 1261, 1242, 1245, 104879]\n",
      "522 [4973, 6711, 1208, 3037, 1223, 3275, 3468, 898, 527, 109487, 1387, 1204, 27773, 1080, 1250, 3671, 1884, 5747, 3252, 2019]\n",
      "523 [50, 260, 296, 441, 457, 593, 608, 1136, 1197, 1198, 1210, 1213, 1258, 2329, 2580, 2761, 48516, 720, 2288, 162]\n",
      "524 [750, 176, 356, 930, 3037, 57669, 3114, 3275, 38061, 2186, 1172, 720, 58559, 951, 6942, 293, 1215, 4973, 6016, 56782]\n",
      "525 [1276, 904, 1207, 3275, 933, 1204, 912, 296, 3037, 32, 1203, 858, 930, 2019, 1242, 56782, 2239, 910, 89904, 1221]\n",
      "526 [1252, 912, 1213, 56782, 1235, 1204, 1276, 908, 4993, 177593, 3037, 741, 1198, 923, 1258, 3083, 4034, 79132, 3451, 1248]\n",
      "527 [356, 106642, 1242, 720, 2329, 1276, 1204, 2542, 902, 1266, 1261, 3468, 4973, 1274, 57669, 1200, 1225, 3451, 6377, 2231]\n",
      "528 [1200, 1204, 1178, 1673, 904, 177593, 1945, 1258, 1233, 318, 56367, 1276, 922, 2959, 1208, 3429, 6787, 3503, 919, 1284]\n",
      "529 [1204, 4973, 50, 4993, 2959, 1219, 2239, 912, 6874, 933, 5618, 2324, 1292, 3435, 923, 1248, 1242, 904, 1148, 1283]\n",
      "530 [1204, 296, 741, 750, 3578, 177593, 3037, 7371, 2959, 1213, 2858, 475, 1221, 3681, 1203, 3275, 4973, 1276, 6711, 922]\n",
      "531 [296, 750, 720, 1204, 904, 1276, 44555, 2324, 356, 3508, 2019, 56782, 1221, 1207, 3836, 4642, 1266, 3435, 1242, 1270]\n",
      "532 [750, 1276, 3037, 922, 1204, 720, 1221, 56782, 3681, 260, 2324, 44555, 3916, 356, 1258, 741, 1266, 104879, 3996, 1089]\n",
      "533 [260, 296, 318, 1204, 50, 750, 912, 110, 56782, 589, 4993, 858, 3681, 3037, 904, 57669, 1282, 7153, 1208, 1197]\n",
      "534 [2160, 750, 3468, 3508, 1204, 1276, 720, 923, 318, 3671, 914, 910, 57669, 904, 912, 1228, 1617, 1245, 3037, 112552]\n",
      "535 [1276, 1252, 924, 56782, 541, 2329, 78499, 1225, 5992, 933, 3681, 177593, 3000, 589, 7153, 110, 31658, 1204, 1282, 1215]\n",
      "536 [1204, 924, 50, 2580, 904, 1719, 741, 2571, 56782, 750, 1197, 1196, 1945, 541, 7371, 1219, 3037, 1201, 5014, 1617]\n",
      "537 [2788, 44195, 1245, 3451, 56782, 44555, 1242, 6711, 1235, 8368, 1237, 4973, 904, 3836, 1204, 27773, 3681, 4642, 2019, 164179]\n",
      "538 [1213, 2329, 1250, 2019, 1276, 3037, 1204, 1136, 750, 3114, 457, 858, 56782, 296, 1212, 930, 3275, 475, 48516, 1198]\n",
      "539 [904, 1196, 1276, 1201, 1704, 1245, 3037, 910, 1228, 2571, 1207, 56367, 1089, 858, 296, 3451, 1215, 38061, 69481, 1200]\n",
      "540 [3275, 904, 318, 908, 1204, 1270, 951, 58559, 1208, 4878, 3996, 3468, 1235, 608, 2858, 1276, 103141, 1221, 110, 858]\n",
      "541 [750, 1207, 1200, 527, 1204, 1193, 910, 541, 2571, 7371, 3468, 1222, 6016, 2324, 2360, 1148, 3000, 1265, 904, 1945]\n",
      "542 [3147, 58559, 1242, 109487, 6711, 910, 930, 2351, 898, 1237, 1225, 919, 2324, 2511, 527, 1208, 720, 4499, 1261, 1250]\n",
      "543 [6, 50, 110, 260, 593, 780, 1097, 1196, 1198, 1219, 1222, 1240, 1298, 1408, 1500, 1954, 2028, 2078, 2329, 2502]\n",
      "544 [1204, 1242, 3503, 48516, 922, 56782, 2959, 356, 898, 1203, 1199, 750, 1278, 720, 1207, 2924, 3468, 1210, 1196, 3147]\n",
      "545 [1204, 3468, 2329, 1274, 1197, 44555, 1242, 2019, 1207, 318, 1246, 741, 3275, 750, 177593, 1213, 608, 2542, 2160, 3037]\n",
      "546 [1204, 1250, 912, 318, 858, 2571, 1276, 933, 923, 2396, 4327, 6016, 750, 110, 79132, 58, 720, 56782, 2762, 930]\n",
      "547 [750, 1204, 296, 1246, 56782, 589, 1207, 908, 475, 1235, 2019, 1250, 58559, 1208, 1252, 3275, 608, 898, 3083, 1261]\n",
      "548 [1204, 1276, 3037, 318, 1242, 933, 1213, 1217, 741, 364, 2160, 1266, 1261, 177593, 3435, 56782, 1201, 951, 720, 1223]\n",
      "549 [1204, 3037, 3578, 898, 3468, 912, 750, 7371, 177593, 475, 34405, 1276, 919, 1673, 922, 1945, 590, 1148, 2329, 1213]\n",
      "550 [1204, 6016, 57669, 2329, 912, 1276, 720, 2324, 3037, 56782, 1223, 923, 171763, 2959, 1250, 1198, 1212, 2019, 955, 1242]\n",
      "551 [3037, 1276, 720, 2329, 922, 1104, 177593, 1041, 1258, 3275, 58, 1207, 171763, 3153, 8132, 904, 1061, 2360, 1204, 55118]\n",
      "552 [741, 904, 858, 1198, 79132, 1250, 1148, 177593, 2329, 898, 260, 1237, 1215, 38061, 720, 1274, 912, 1276, 745, 5669]\n",
      "553 [2019, 1204, 899, 6711, 750, 56782, 1235, 3037, 7371, 318, 923, 7153, 1276, 44555, 1172, 2360, 1199, 1201, 4642, 922]\n",
      "554 [356, 720, 2959, 1203, 8014, 1641, 1198, 1387, 2791, 109487, 492, 318, 3147, 898, 3083, 1204, 4995, 58, 106782, 112552]\n",
      "555 [1282, 1276, 30707, 924, 919, 48516, 7451, 4973, 1148, 54997, 914, 55052, 134130, 4979, 57669, 112852, 105504, 3265, 912, 527]\n",
      "556 [296, 2571, 2324, 1242, 1207, 2959, 904, 1204, 720, 3037, 1193, 177593, 527, 50, 2580, 750, 3578, 44555, 1089, 741]\n",
      "557 [922, 1204, 56782, 1266, 1258, 356, 115713, 4995, 3037, 2160, 898, 1276, 1178, 112552, 3435, 910, 1288, 6942, 914, 908]\n",
      "558 [750, 2959, 3703, 1221, 109487, 1617, 58, 3037, 1276, 2160, 858, 318, 1204, 5952, 912, 3468, 177593, 741, 44555, 3451]\n",
      "559 [50, 750, 2324, 1204, 1242, 56782, 7153, 1196, 593, 2019, 5618, 3435, 1845, 1617, 1235, 933, 1252, 3468, 47, 71899]\n",
      "560 [177593, 1261, 1245, 1225, 1266, 2324, 720, 2160, 1204, 1215, 44555, 246, 71899, 1213, 6016, 3030, 1235, 904, 3037, 750]\n",
      "561 [4973, 750, 1199, 2542, 1204, 1266, 1653, 3949, 6016, 3508, 5971, 904, 1248, 778, 4226, 858, 3451, 1221, 1208, 4103]\n",
      "562 [3451, 904, 2160, 3681, 4993, 910, 3037, 56782, 1242, 858, 105504, 2324, 1204, 778, 2078, 1266, 1276, 3468, 69481, 1261]\n",
      "563 [318, 1204, 170705, 904, 2542, 527, 926, 48516, 2580, 1213, 2329, 3468, 2959, 176, 954, 1246, 7371, 3037, 1276, 1225]\n",
      "564 [1204, 1283, 1945, 1235, 1136, 912, 79132, 1288, 3275, 246, 1225, 68954, 2019, 1212, 1222, 1248, 930, 1267, 33794, 1215]\n",
      "565 [2324, 1204, 1261, 1213, 1089, 1222, 246, 2019, 3275, 110, 4973, 7153, 162, 720, 1258, 3836, 44555, 904, 858, 2329]\n",
      "566 [720, 858, 1207, 1204, 1203, 1198, 1196, 750, 1089, 908, 1221, 1276, 48516, 177593, 1210, 1041, 1261, 79132, 3147, 162]\n",
      "567 [1250, 1199, 89904, 1283, 1136, 4995, 96821, 2788, 88163, 1080, 1968, 55247, 1288, 4642, 7147, 106100, 2160, 1276, 6957, 1079]\n",
      "568 [1204, 1235, 318, 56782, 3275, 4973, 3037, 2019, 1221, 44555, 3435, 1197, 1213, 7371, 2542, 750, 475, 904, 1089, 48516]\n",
      "569 [1204, 1250, 3037, 1235, 142488, 1945, 177593, 3468, 1278, 913, 1208, 7371, 1213, 6711, 58, 60069, 1387, 1225, 1148, 68954]\n",
      "570 [720, 2160, 1204, 3681, 904, 1266, 4973, 3451, 3037, 56782, 593, 4011, 296, 1276, 1250, 1221, 750, 909, 3468, 177593]\n",
      "571 [1276, 1263, 1203, 56782, 5060, 4027, 3037, 1261, 914, 2804, 1097, 720, 1225, 1221, 1204, 3468, 1089, 112290, 356, 1238]\n",
      "572 [1617, 2858, 177593, 898, 4642, 1263, 7099, 1261, 6377, 3996, 2959, 56782, 3424, 1148, 3507, 109487, 38061, 1242, 58559, 1283]\n",
      "573 [3508, 1247, 1223, 1235, 1287, 1248, 1204, 3037, 2202, 56782, 27773, 2324, 1610, 4973, 904, 1245, 5500, 750, 1046, 38061]\n",
      "574 [1204, 56782, 2959, 750, 923, 2324, 858, 57669, 7153, 912, 3451, 3836, 6016, 1221, 1208, 260, 1261, 177593, 3681, 27773]\n",
      "575 [318, 2329, 110, 27773, 1204, 1387, 589, 44191, 3147, 1208, 260, 933, 1248, 1617, 58, 1276, 2028, 4014, 3037, 527]\n",
      "576 [1204, 318, 904, 908, 1196, 527, 260, 1079, 1270, 4993, 1148, 7153, 912, 1248, 5995, 50, 6016, 2542, 926, 44555]\n",
      "577 [750, 50, 56782, 6016, 898, 1276, 3147, 4011, 1215, 1204, 364, 2019, 57669, 3037, 7153, 3468, 1653, 1704, 904, 1261]\n",
      "578 [1204, 1210, 318, 260, 904, 4011, 1245, 1198, 898, 1261, 1203, 2019, 3037, 1223, 7371, 1242, 177593, 441, 858, 48516]\n",
      "579 [2329, 2959, 904, 858, 1221, 48516, 3451, 1204, 1215, 4973, 750, 457, 933, 3468, 134130, 7371, 4226, 6016, 177593, 1203]\n",
      "580 [58559, 1220, 1215, 115713, 60684, 1204, 168252, 27773, 3037, 1245, 1748, 1261, 5992, 2867, 48738, 1258, 969, 1449, 1223, 215]\n",
      "581 [44555, 750, 1204, 3451, 1221, 2019, 720, 3030, 3037, 2580, 1235, 1222, 1196, 3578, 904, 912, 1206, 110, 1617, 58559]\n",
      "582 [930, 1204, 2160, 56782, 1242, 720, 3037, 177593, 38061, 1246, 1223, 1209, 1261, 6711, 318, 858, 6016, 57669, 3451, 1884]\n",
      "583 [1204, 1276, 933, 27773, 908, 246, 64839, 1225, 3468, 318, 1242, 930, 2329, 104879, 904, 56782, 6350, 4034, 177593, 2160]\n",
      "584 [2761, 318, 4306, 1276, 933, 1035, 2160, 3468, 27773, 1408, 908, 1217, 142488, 171763, 3152, 2580, 56782, 527, 1210, 1356]\n",
      "585 [318, 4973, 3037, 3451, 1204, 356, 922, 1704, 1270, 912, 7121, 741, 902, 56782, 3681, 1261, 2067, 6711, 4993, 1250]\n",
      "586 [593, 1213, 902, 912, 1246, 56367, 105504, 1252, 1261, 1276, 6350, 1245, 6440, 38061, 2248, 1204, 1945, 246, 1104, 1235]\n",
      "587 [1274, 1242, 930, 3703, 142488, 112852, 2019, 1199, 44555, 34405, 3275, 1204, 1213, 71899, 5618, 2580, 1222, 3681, 1527, 1245]\n",
      "588 [1089, 2571, 4011, 750, 4973, 858, 2599, 1204, 922, 1221, 2288, 2329, 4993, 3000, 1261, 741, 1199, 69481, 2959, 7153]\n",
      "589 [7361, 1261, 2959, 1245, 1276, 1704, 1193, 2329, 6711, 4993, 5971, 1215, 1198, 898, 741, 2067, 27773, 38061, 858, 2138]\n",
      "590 [4973, 5618, 720, 27773, 3037, 2019, 3328, 1244, 51255, 79132, 3000, 29, 56782, 1215, 1952, 1673, 162, 1104, 3083, 16]\n",
      "591 [750, 1193, 1203, 1204, 1196, 858, 904, 4011, 318, 6377, 56782, 916, 1104, 48516, 541, 3275, 1617, 1261, 1276, 527]\n",
      "592 [1221, 1196, 1207, 3451, 3578, 778, 720, 904, 2329, 1203, 1210, 1204, 750, 1276, 3681, 858, 1193, 2160, 1266, 1213]\n",
      "593 [778, 4226, 1204, 4878, 589, 38061, 5618, 6874, 27611, 30707, 2398, 2019, 7099, 2329, 8950, 1213, 1246, 296, 720, 904]\n",
      "594 [2580, 48516, 2324, 337, 986, 1212, 1245, 1374, 44555, 57669, 1274, 1884, 916, 67665, 733, 91529, 2797, 1204, 56782, 265]\n",
      "595 [318, 260, 1204, 908, 1203, 593, 904, 356, 56782, 1210, 1276, 3037, 3275, 527, 2804, 912, 1196, 4973, 922, 1197]\n",
      "596 [898, 2324, 1242, 56367, 44555, 2580, 27773, 3703, 1235, 720, 1245, 3503, 908, 933, 1237, 750, 246, 1261, 930, 3681]\n",
      "597 [296, 527, 608, 1213, 1258, 318, 475, 750, 4878, 4973, 1104, 2329, 2019, 2997, 3503, 912, 111, 2571, 3275, 969]\n",
      "598 [58, 3037, 1276, 48516, 3030, 1204, 3451, 44555, 1041, 2360, 589, 1248, 750, 3503, 1292, 1089, 1282, 1104, 76093, 1228]\n",
      "599 [1234, 475, 1235, 177593, 3508, 1203, 1250, 1207, 527, 57504, 1277, 57669, 5971, 8950, 1272, 2360, 5500, 1288, 3083, 1238]\n",
      "600 [56782, 122904, 6711, 1245, 148881, 1260, 1089, 1080, 3451, 910, 541, 3836, 1287, 2019, 1222, 71899, 6440, 48738, 2239, 555]\n",
      "601 [1204, 750, 296, 593, 3468, 2329, 720, 3275, 922, 1258, 27773, 57669, 4973, 177593, 44195, 1199, 1215, 916, 1278, 1219]\n",
      "602 [720, 1221, 912, 1270, 750, 1225, 3435, 7361, 2028, 1148, 2329, 778, 89904, 1208, 57669, 71899, 3996, 1213, 1235, 899]\n",
      "603 [750, 7982, 50, 4878, 8014, 1136, 4993, 48394, 6669, 1148, 2313, 55276, 7153, 8368, 7981, 31116, 1250, 7099, 116897, 31878]\n",
      "604 [4993, 1245, 44555, 2324, 46578, 720, 1204, 904, 1210, 1242, 51255, 27773, 1276, 800, 898, 1203, 2959, 1225, 57669, 1237]\n",
      "605 [1204, 1148, 1080, 2019, 1262, 1278, 593, 38061, 1198, 48516, 44555, 912, 44195, 1245, 1250, 2788, 69481, 3275, 7371, 1283]\n",
      "606 [3328, 1148, 3037, 1276, 2804, 1233, 1283, 3275, 1213, 720, 91077, 3836, 3468, 4642, 16, 1212, 1197, 608, 1719, 56782]\n",
      "607 [44195, 356, 293, 902, 1245, 904, 914, 5026, 1261, 1408, 4995, 1248, 1215, 68954, 1719, 3435, 2324, 1041, 800, 16]\n",
      "608 [5690, 1449, 8827, 5014, 177593, 1197, 3468, 1235, 5026, 6787, 2324, 38061, 912, 5010, 57669, 3201, 69122, 33794, 1204, 8378]\n",
      "609 [720, 1223, 3147, 904, 3037, 1204, 898, 1245, 1276, 1278, 741, 1387, 7153, 177593, 922, 1104, 3451, 56782, 1196, 1203]\n",
      "610 [1704, 720, 2160, 1223, 951, 1921, 1250, 2329, 2019, 913, 1266, 3508, 1206, 307, 2502, 3635, 3083, 2324, 52885, 5500]\n"
     ]
    }
   ],
   "source": [
    "from collections import defaultdict\n",
    "def get_top_n(predictions, n):\n",
    "    # First map the predictions to each user.\n",
    "      top_n = defaultdict(list)\n",
    "      for uid, iid, true_r, est, _ in predictions:\n",
    "        top_n[uid].append((iid, est))\n",
    "\n",
    "   #Then sort the predictions for each user and retrieve the n highest ones.\n",
    "      for uid, user_ratings in top_n.items():\n",
    "          user_ratings.sort(key=lambda x: x[1], reverse=True)\n",
    "          top_n[uid] = user_ratings[:n]\n",
    "\n",
    "    return top_n\n",
    "top_n = get_top_n(predictions, n=20)\n",
    "for uid, user_ratings in top_n.items():\n",
    "    print(uid, [iid for (iid, rating) in user_ratings])"
   ]
  },
  {
   "cell_type": "markdown",
   "metadata": {},
   "source": [
    "# CONTENT BASED RECOMMENDATION SYSTEM"
   ]
  },
  {
   "cell_type": "code",
   "execution_count": 16,
   "metadata": {},
   "outputs": [],
   "source": [
    "vectorizer = CountVectorizer()\n",
    "x = vectorizer.fit_transform(movies['genres'].values)\n",
    "feature_names = vectorizer.get_feature_names()"
   ]
  },
  {
   "cell_type": "code",
   "execution_count": 17,
   "metadata": {},
   "outputs": [],
   "source": [
    "genres_bow = pd.DataFrame(x.toarray(), columns=feature_names)\n",
    "genres_bow['combined']= genres_bow.values.tolist()"
   ]
  },
  {
   "cell_type": "code",
   "execution_count": 18,
   "metadata": {},
   "outputs": [],
   "source": [
    "movies['genres'] = genres_bow['combined']"
   ]
  },
  {
   "cell_type": "code",
   "execution_count": 19,
   "metadata": {},
   "outputs": [
    {
     "data": {
      "text/html": [
       "<div>\n",
       "<style scoped>\n",
       "    .dataframe tbody tr th:only-of-type {\n",
       "        vertical-align: middle;\n",
       "    }\n",
       "\n",
       "    .dataframe tbody tr th {\n",
       "        vertical-align: top;\n",
       "    }\n",
       "\n",
       "    .dataframe thead th {\n",
       "        text-align: right;\n",
       "    }\n",
       "</style>\n",
       "<table border=\"1\" class=\"dataframe\">\n",
       "  <thead>\n",
       "    <tr style=\"text-align: right;\">\n",
       "      <th></th>\n",
       "      <th>movieId</th>\n",
       "      <th>title</th>\n",
       "      <th>genres</th>\n",
       "    </tr>\n",
       "  </thead>\n",
       "  <tbody>\n",
       "    <tr>\n",
       "      <th>0</th>\n",
       "      <td>1</td>\n",
       "      <td>Toy Story</td>\n",
       "      <td>[0, 1, 1, 1, 1, 0, 0, 0, 1, 0, 0, 0, 0, 0, 0, ...</td>\n",
       "    </tr>\n",
       "    <tr>\n",
       "      <th>1</th>\n",
       "      <td>2</td>\n",
       "      <td>Jumanji</td>\n",
       "      <td>[0, 1, 0, 1, 0, 0, 0, 0, 1, 0, 0, 0, 0, 0, 0, ...</td>\n",
       "    </tr>\n",
       "    <tr>\n",
       "      <th>2</th>\n",
       "      <td>3</td>\n",
       "      <td>Grumpier Old Men</td>\n",
       "      <td>[0, 0, 0, 0, 1, 0, 0, 0, 0, 0, 0, 0, 0, 0, 0, ...</td>\n",
       "    </tr>\n",
       "    <tr>\n",
       "      <th>3</th>\n",
       "      <td>4</td>\n",
       "      <td>Waiting to Exhale</td>\n",
       "      <td>[0, 0, 0, 0, 1, 0, 0, 1, 0, 0, 0, 0, 0, 0, 0, ...</td>\n",
       "    </tr>\n",
       "    <tr>\n",
       "      <th>4</th>\n",
       "      <td>5</td>\n",
       "      <td>Father of the Bride Part II</td>\n",
       "      <td>[0, 0, 0, 0, 1, 0, 0, 0, 0, 0, 0, 0, 0, 0, 0, ...</td>\n",
       "    </tr>\n",
       "  </tbody>\n",
       "</table>\n",
       "</div>"
      ],
      "text/plain": [
       "   movieId                        title  \\\n",
       "0        1                    Toy Story   \n",
       "1        2                      Jumanji   \n",
       "2        3             Grumpier Old Men   \n",
       "3        4            Waiting to Exhale   \n",
       "4        5  Father of the Bride Part II   \n",
       "\n",
       "                                              genres  \n",
       "0  [0, 1, 1, 1, 1, 0, 0, 0, 1, 0, 0, 0, 0, 0, 0, ...  \n",
       "1  [0, 1, 0, 1, 0, 0, 0, 0, 1, 0, 0, 0, 0, 0, 0, ...  \n",
       "2  [0, 0, 0, 0, 1, 0, 0, 0, 0, 0, 0, 0, 0, 0, 0, ...  \n",
       "3  [0, 0, 0, 0, 1, 0, 0, 1, 0, 0, 0, 0, 0, 0, 0, ...  \n",
       "4  [0, 0, 0, 0, 1, 0, 0, 0, 0, 0, 0, 0, 0, 0, 0, ...  "
      ]
     },
     "execution_count": 19,
     "metadata": {},
     "output_type": "execute_result"
    }
   ],
   "source": [
    "movies.head()"
   ]
  },
  {
   "cell_type": "code",
   "execution_count": 20,
   "metadata": {},
   "outputs": [],
   "source": [
    "def get_cossim(movieid, top):\n",
    "    # Creating dataframe with only IDs and genres\n",
    "    movies_to_search = movies[['movieId', 'genres']]\n",
    "    # Remove the ID of the movie we are measuring distance to\n",
    "    movies_to_search = movies_to_search[movies_to_search.movieId != movieid]\n",
    "    # Saving distances to new column\n",
    "    movies_to_search['dist'] = movies_to_search['genres'].apply(lambda x: cosine_similarity(np.array(x).reshape(1, -1), np.array(movies.loc[movies['movieId'] == movieid]['genres'].values[0]).reshape(1, -1)))\n",
    "    # Remove the genres column\n",
    "    movies_to_search = movies_to_search.drop(columns=['genres'])\n",
    "    # Distance value is in the list inside of the list so we need to unpack it\n",
    "    movies_to_search = movies_to_search.explode('dist').explode('dist')\n",
    "    # Sort the data and return top values\n",
    "    return movies_to_search.sort_values(by=['dist'], ascending=False)['movieId'].head(top).values"
   ]
  },
  {
   "cell_type": "code",
   "execution_count": 21,
   "metadata": {},
   "outputs": [],
   "source": [
    "def get_similar(userid):\n",
    "    # Take all the movies watched by user\n",
    "    movies_watched_by_user = df[df.userId == user_id]\n",
    "    # Only 4.5 or higher rating filtered\n",
    "    movies_watched_by_user = movies_watched_by_user[movies_watched_by_user['rating'] > 4.5]\n",
    "    # Taking top 20 with highest ratings\n",
    "    top_movies_user = (movies_watched_by_user.sort_values(by=\"rating\", ascending=False).head(20))\n",
    "    top_movies_user['watched_movieId'] = top_movies_user['movieId']\n",
    "    top_movies_user = top_movies_user[['userId', 'watched_movieId']]\n",
    "    # Find 5 similar movies for each of the selected above\n",
    "    top_movies_user['similar'] = top_movies_user['watched_movieId'].apply(lambda x: (get_cossim(x, 5)))\n",
    "    # Remove movies that user have already watched from recommendations\n",
    "    result = [x for x in np.concatenate(top_movies_user['similar'].values, axis=0).tolist() if x not in top_movies_user.watched_movieId.values.tolist()]\n",
    "    return result"
   ]
  },
  {
   "cell_type": "code",
   "execution_count": 22,
   "metadata": {},
   "outputs": [],
   "source": [
    "def get_top(id, top):\n",
    "    # taking movies that user may like\n",
    "    smlr = get_similar(id)    \n",
    "    # Calculating mean rationg for every movie\n",
    "    movie_data = pd.merge(df, movies, on='movieId')\n",
    "    ratings_mean_count = pd.DataFrame(movie_data.groupby('movieId')['rating'].mean())\n",
    "    ratings_mean_count['rating_counts'] = pd.DataFrame(movie_data.groupby('movieId')['rating'].count())\n",
    "    # Sorting movies with 10 or more ratings by users\n",
    "    ratings_mean_count = ratings_mean_count[ratings_mean_count['rating_counts'] > 10]\n",
    "    # Returning top N movies sorted by rating\n",
    "    return ratings_mean_count[ratings_mean_count.index.isin(smlr)].sort_values(by=['rating'], ascending=False).head(top)"
   ]
  },
  {
   "cell_type": "code",
   "execution_count": 23,
   "metadata": {},
   "outputs": [
    {
     "data": {
      "text/plain": [
       "array([  2399, 130450, 119655, 104074,   2093, 158813,     60,   1009,\n",
       "        41566,    126], dtype=int64)"
      ]
     },
     "execution_count": 23,
     "metadata": {},
     "output_type": "execute_result"
    }
   ],
   "source": [
    "get_cossim(2, 10)"
   ]
  },
  {
   "cell_type": "code",
   "execution_count": 50,
   "metadata": {},
   "outputs": [],
   "source": [
    "top1 = get_top(610, 5)\n",
    "top2 = get_top(254, 5)\n",
    "top3 = get_top(317, 5)\n",
    "content_rec1 = top1.index.values.tolist()\n",
    "content_rec2 = top2.index.values.tolist()\n",
    "content_rec3 = top3.index.values.tolist()"
   ]
  },
  {
   "cell_type": "markdown",
   "metadata": {},
   "source": [
    "# HYBRID RECOMMENDATION SYSTEM"
   ]
  },
  {
   "cell_type": "code",
   "execution_count": 51,
   "metadata": {},
   "outputs": [],
   "source": [
    "ans1=[]\n",
    "ans2=[]\n",
    "ans3=[]\n",
    "\n",
    "u1=610\n",
    "u2=254\n",
    "u3=317\n",
    "\n",
    "n=5\n",
    "top_n = get_top_n(predictions, n)\n",
    "top_n\n",
    "# for uid, user_ratings in top_n.items():\n",
    "#     print(uid, [iid for (iid, rating) in user_ratings])\n",
    "\n",
    "for i in range(0 ,n):\n",
    "  p1=top_n[u1][i][0]\n",
    "  p2=top_n[u2][i][0]\n",
    "  p3=top_n[u3][i][0]\n",
    "  ans1.append(p1)\n",
    "  ans2.append(p2)\n",
    "  ans3.append(p3)\n",
    "\n",
    "rec_u1 = ans1 + content_rec1\n",
    "rec_u2 = ans2 + content_rec2\n",
    "rec_u3 = ans3 + content_rec3"
   ]
  },
  {
   "cell_type": "code",
   "execution_count": 52,
   "metadata": {},
   "outputs": [
    {
     "data": {
      "text/plain": [
       "[1704, 720, 2160, 1223, 951, 58559, 4973, 1262, 72226, 1148]"
      ]
     },
     "execution_count": 52,
     "metadata": {},
     "output_type": "execute_result"
    }
   ],
   "source": [
    "rec_u1"
   ]
  },
  {
   "cell_type": "code",
   "execution_count": 53,
   "metadata": {},
   "outputs": [
    {
     "data": {
      "text/plain": [
       "[1204, 1225, 1199, 933, 750, 58559, 4973, 1262, 72226, 1148]"
      ]
     },
     "execution_count": 53,
     "metadata": {},
     "output_type": "execute_result"
    }
   ],
   "source": [
    "rec_u2"
   ]
  },
  {
   "cell_type": "code",
   "execution_count": 54,
   "metadata": {},
   "outputs": [
    {
     "data": {
      "text/plain": [
       "[527, 1204, 912, 916, 1104, 58559, 4973, 1262, 72226, 1148]"
      ]
     },
     "execution_count": 54,
     "metadata": {},
     "output_type": "execute_result"
    }
   ],
   "source": [
    "rec_u3"
   ]
  },
  {
   "cell_type": "code",
   "execution_count": 55,
   "metadata": {},
   "outputs": [
    {
     "name": "stdout",
     "output_type": "stream",
     "text": [
      "Wallace & Gromit: The Best of Aardman Animation (1996) :  720\n",
      "His Girl Friday (1940) :  951\n",
      "Wallace & Gromit: The Wrong Trousers (1993) :  1148\n",
      "Grand Day Out with Wallace and Gromit, A (1989) :  1223\n",
      "Great Escape, The (1963) :  1262\n",
      "Good Will Hunting (1997) :  1704\n",
      "Rosemary's Baby (1968) :  2160\n",
      "Amelie (Fabuleux destin d'Amélie Poulain, Le) (2001) :  4973\n",
      "Dark Knight, The (2008) :  58559\n",
      "Fantastic Mr. Fox (2009) :  72226\n"
     ]
    }
   ],
   "source": [
    "movie_df = pd.read_csv(r\"movies.csv\")\n",
    "recommended_movies = movie_df[movie_df[\"movieId\"].isin(rec_u1)]\n",
    "for row in recommended_movies.itertuples():   \n",
    "    print(row.title, \": \", row.movieId)"
   ]
  },
  {
   "cell_type": "code",
   "execution_count": 56,
   "metadata": {},
   "outputs": [
    {
     "name": "stdout",
     "output_type": "stream",
     "text": [
      "Dr. Strangelove or: How I Learned to Stop Worrying and Love the Bomb (1964) :  750\n",
      "To Catch a Thief (1955) :  933\n",
      "Wallace & Gromit: The Wrong Trousers (1993) :  1148\n",
      "Brazil (1985) :  1199\n",
      "Lawrence of Arabia (1962) :  1204\n",
      "Amadeus (1984) :  1225\n",
      "Great Escape, The (1963) :  1262\n",
      "Amelie (Fabuleux destin d'Amélie Poulain, Le) (2001) :  4973\n",
      "Dark Knight, The (2008) :  58559\n",
      "Fantastic Mr. Fox (2009) :  72226\n"
     ]
    }
   ],
   "source": [
    "recommended_movies = movie_df[movie_df[\"movieId\"].isin(rec_u2)]\n",
    "for row in recommended_movies.itertuples():  \n",
    "    print(row.title, \": \", row.movieId)"
   ]
  },
  {
   "cell_type": "code",
   "execution_count": 57,
   "metadata": {},
   "outputs": [
    {
     "name": "stdout",
     "output_type": "stream",
     "text": [
      "Schindler's List (1993) :  527\n",
      "Casablanca (1942) :  912\n",
      "Roman Holiday (1953) :  916\n",
      "Streetcar Named Desire, A (1951) :  1104\n",
      "Wallace & Gromit: The Wrong Trousers (1993) :  1148\n",
      "Lawrence of Arabia (1962) :  1204\n",
      "Great Escape, The (1963) :  1262\n",
      "Amelie (Fabuleux destin d'Amélie Poulain, Le) (2001) :  4973\n",
      "Dark Knight, The (2008) :  58559\n",
      "Fantastic Mr. Fox (2009) :  72226\n"
     ]
    }
   ],
   "source": [
    "recommended_movies = movie_df[movie_df[\"movieId\"].isin(rec_u3)]\n",
    "for row in recommended_movies.itertuples():\n",
    "    print(row.title, \": \", row.movieId)"
   ]
  }
 ],
 "metadata": {
  "colab": {
   "collapsed_sections": [],
   "name": "Proj DAV.ipynb",
   "provenance": []
  },
  "kernelspec": {
   "display_name": "Python 3",
   "language": "python",
   "name": "python3"
  },
  "language_info": {
   "codemirror_mode": {
    "name": "ipython",
    "version": 3
   },
   "file_extension": ".py",
   "mimetype": "text/x-python",
   "name": "python",
   "nbconvert_exporter": "python",
   "pygments_lexer": "ipython3",
   "version": "3.8.3"
  }
 },
 "nbformat": 4,
 "nbformat_minor": 1
}
